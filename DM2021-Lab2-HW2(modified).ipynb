{
 "cells": [
  {
   "cell_type": "markdown",
   "metadata": {},
   "source": [
    "### Student Information\n",
    "Name: 施泳瑜(SHIH, YUNG-YU)\n",
    "\n",
    "Student ID:107071016\n",
    "\n",
    "GitHub ID: la83la\n",
    "\n",
    "Kaggle name: sally shih\n",
    "\n",
    "Kaggle private scoreboard snapshot: \n",
    "\n",
    "![title](kaggle.png)"
   ]
  },
  {
   "cell_type": "markdown",
   "metadata": {},
   "source": [
    "---"
   ]
  },
  {
   "cell_type": "markdown",
   "metadata": {},
   "source": [
    "# First\n",
    "\n",
    "This part is worth 30% of your grade. Do the take home exercises in the DM2021-Lab2-master Repo. You may need to copy some cells from the Lab notebook to this notebook."
   ]
  },
  {
   "cell_type": "markdown",
   "metadata": {},
   "source": [
    "---\n",
    "### ** >>> Exercise 1 (Take home): **  \n",
    "Plot word frequency for Top 30 words in both train and test dataset. (Hint: refer to DM lab 1)"
   ]
  },
  {
   "cell_type": "code",
   "execution_count": 9,
   "metadata": {},
   "outputs": [],
   "source": [
    "import re\n",
    "from nltk.corpus import stopwords\n",
    "from collections import Counter"
   ]
  },
  {
   "cell_type": "code",
   "execution_count": 10,
   "metadata": {},
   "outputs": [],
   "source": [
    "def tokenize(text):\n",
    "    \n",
    "    text = text.lower()\n",
    "    text = re.sub(r'[^\\w\\s]',' ',text)\n",
    "    tokens = text.split()\n",
    "    return tokens\n",
    "\n",
    "def calculate_frequency(tokens):  \n",
    "    word_count_dict = Counter()\n",
    "    for w in tokens:\n",
    "        word_count_dict[w] += 1        \n",
    "    return word_count_dict\n",
    "\n",
    "def print_top_n(counter, n = 10):\n",
    "    word = []\n",
    "    frequency = []    \n",
    "    answer = counter.most_common(n)    \n",
    "    for i in range(n):\n",
    "        word.append(answer[i][0])\n",
    "        frequency.append(answer[i][1])        \n",
    "    return word, frequency"
   ]
  },
  {
   "cell_type": "code",
   "execution_count": 11,
   "metadata": {},
   "outputs": [],
   "source": [
    "str = \"\"\n",
    "text = str.join(train_df[\"text\"])\n",
    "\n",
    "str = \"\"\n",
    "text2 = str.join(test_df[\"text\"])"
   ]
  },
  {
   "cell_type": "code",
   "execution_count": 12,
   "metadata": {},
   "outputs": [],
   "source": [
    "#train data\n",
    "tokens = tokenize(text)\n",
    "counter = calculate_frequency(tokens)\n",
    "w, freq = print_top_n(counter, n=30)\n",
    "\n",
    "#test data\n",
    "tokens2 = tokenize(text2)\n",
    "counter2 = calculate_frequency(tokens2)\n",
    "w2, freq2 = print_top_n(counter2, n=30)"
   ]
  },
  {
   "cell_type": "code",
   "execution_count": 13,
   "metadata": {},
   "outputs": [
    {
     "name": "stdout",
     "output_type": "stream",
     "text": [
      "['the', 'i', 'to', 'a', 'and', 'of', 'is', 'you', 'it', 'in', 's', 'that', 't', 'my', 'for', 'on', 'be', 'me', 'this', 'so', 'have', 'not', 'but', 'n', 'with', 'just', 'm', 'at', 'can', 'like']\n",
      "[1689, 1472, 1286, 1181, 942, 792, 786, 775, 681, 617, 565, 526, 508, 503, 445, 385, 380, 368, 343, 312, 310, 295, 289, 289, 288, 281, 277, 262, 248, 239]\n",
      "\n",
      "['i', 'the', 'to', 'a', 'and', 'of', 'you', 'it', 'is', 'in', 's', 'for', 'that', 't', 'my', 'on', 'be', 'was', 'me', 'so', 'can', 'at', 'have', 'with', 'all', 'are', 'just', 'but', 'get', 'your']\n",
      "[151, 147, 138, 110, 91, 83, 80, 78, 76, 69, 61, 56, 54, 53, 50, 43, 40, 34, 33, 32, 32, 30, 30, 29, 29, 28, 26, 26, 26, 24]\n"
     ]
    }
   ],
   "source": [
    "print(list(w))\n",
    "print(list(freq))\n",
    "print()\n",
    "print(list(w2))\n",
    "print(list(freq2))"
   ]
  },
  {
   "cell_type": "code",
   "execution_count": 14,
   "metadata": {},
   "outputs": [
    {
     "data": {
      "text/plain": [
       "<matplotlib.legend.Legend at 0x2259451b1c0>"
      ]
     },
     "execution_count": 14,
     "metadata": {},
     "output_type": "execute_result"
    },
    {
     "data": {
      "image/png": "[encoded data removed]",
      "text/plain": [
       "<Figure size 1440x800 with 1 Axes>"
      ]
     },
     "metadata": {
      "needs_background": "light"
     },
     "output_type": "display_data"
    }
   ],
   "source": [
    "import pandas as pd\n",
    "import matplotlib.pyplot as plt\n",
    "\n",
    "f, ax = plt.subplots(figsize=(18,10), dpi=80) # set the size that you'd like (width, height)\n",
    "plt.xticks(fontsize=12)\n",
    "plt.yticks(fontsize=20)\n",
    "width = 0.8\n",
    "plt.bar(w, freq, width, color = \"#87CEFA\", label = 'first bar')\n",
    "plt.bar(w2, freq2, width, color = \"#6FB7B7\", label = 'second bar')\n",
    "ax.legend(fontsize = 18)"
   ]
  },
  {
   "cell_type": "markdown",
   "metadata": {},
   "source": [
    "---\n",
    "### ** >>> Exercise 2 (Take home): **  \n",
    "Generate an embedding using the TF-IDF vectorizer instead of th BOW one with 1000 features and show the feature names for features [100:110]."
   ]
  },
  {
   "cell_type": "markdown",
   "metadata": {},
   "source": [
    "    Use TF-IDF to take 1000 features"
   ]
  },
  {
   "cell_type": "code",
   "execution_count": 33,
   "metadata": {},
   "outputs": [],
   "source": [
    "import pandas as pd\n",
    "from sklearn.feature_extraction.text import TfidfVectorizer\n",
    "\n",
    "documentA = 'the man went out for a walk'\n",
    "documentB = 'the children sat around the fire'\n",
    "\n",
    "bagOfWordsA = documentA.split(' ')\n",
    "bagOfWordsB = documentB.split(' ')\n",
    "\n",
    "uniqueWords = set(bagOfWordsA).union(set(bagOfWordsB))\n",
    "\n",
    "numOfWordsA = dict.fromkeys(uniqueWords, 0)\n",
    "for word in bagOfWordsA:\n",
    "    numOfWordsA[word] += 1\n",
    "numOfWordsB = dict.fromkeys(uniqueWords, 0)\n",
    "for word in bagOfWordsB:\n",
    "    numOfWordsB[word] += 1\n",
    "\n",
    "#The number of times a word appears in a document divded by the total number of words in the document.\n",
    "def computeTF(wordDict, bagOfWords):\n",
    "    tfDict = {}\n",
    "    bagOfWordsCount = len(bagOfWords)\n",
    "    for word, count in wordDict.items():\n",
    "        tfDict[word] = count / float(bagOfWordsCount)\n",
    "    return tfDict\n",
    "\n",
    "tfA = computeTF(numOfWordsA, bagOfWordsA)\n",
    "tfB = computeTF(numOfWordsB, bagOfWordsB)\n",
    "\n",
    "#The log of the number of documents divided by the number of documents that contain the word w. \n",
    "def computeIDF(documents):\n",
    "    import math\n",
    "    N = len(documents)\n",
    "    \n",
    "    idfDict = dict.fromkeys(documents[0].keys(), 0)\n",
    "    for document in documents:\n",
    "        for word, val in document.items():\n",
    "            if val > 0:\n",
    "                idfDict[word] += 1\n",
    "    \n",
    "    for word, val in idfDict.items():\n",
    "        idfDict[word] = math.log(N / float(val))\n",
    "    return idfDict\n",
    "\n",
    "def computeTFIDF(tfBagOfWords, idfs):\n",
    "    tfidf = {}\n",
    "    for word, val in tfBagOfWords.items():\n",
    "        tfidf[word] = val * idfs[word]\n",
    "    return tfidf\n",
    "idfs = computeIDF([numOfWordsA, numOfWordsB])\n",
    "\n",
    "tfidfA = computeTFIDF(tfA, idfs)\n",
    "tfidfB = computeTFIDF(tfB, idfs)\n",
    "df = pd.DataFrame([tfidfA, tfidfB])\n",
    "\n",
    "vectorizer = TfidfVectorizer()\n",
    "vectors = vectorizer.fit_transform([documentA, documentB])\n",
    "feature_names = vectorizer.get_feature_names()\n",
    "dense = vectors.todense()\n",
    "denselist = dense.tolist()\n",
    "df = pd.DataFrame(denselist, columns=feature_names)"
   ]
  },
  {
   "cell_type": "code",
   "execution_count": 35,
   "metadata": {
    "collapsed": true
   },
   "outputs": [
    {
     "name": "stderr",
     "output_type": "stream",
     "text": [
      "C:\\Users\\user\\anaconda3\\lib\\site-packages\\sklearn\\utils\\deprecation.py:87: FutureWarning: Function get_feature_names is deprecated; get_feature_names is deprecated in 1.0 and will be removed in 1.2. Please use get_feature_names_out instead.\n",
      "  warnings.warn(msg, category=FutureWarning)\n"
     ]
    },
    {
     "data": {
      "text/html": [
       "<div>\n",
       "<style scoped>\n",
       "    .dataframe tbody tr th:only-of-type {\n",
       "        vertical-align: middle;\n",
       "    }\n",
       "\n",
       "    .dataframe tbody tr th {\n",
       "        vertical-align: top;\n",
       "    }\n",
       "\n",
       "    .dataframe thead th {\n",
       "        text-align: right;\n",
       "    }\n",
       "</style>\n",
       "<table border=\"1\" class=\"dataframe\">\n",
       "  <thead>\n",
       "    <tr style=\"text-align: right;\">\n",
       "      <th></th>\n",
       "      <th>00</th>\n",
       "      <th>000</th>\n",
       "      <th>00pm</th>\n",
       "      <th>00tiffanyr</th>\n",
       "      <th>01</th>\n",
       "      <th>02</th>\n",
       "      <th>03</th>\n",
       "      <th>0303</th>\n",
       "      <th>034</th>\n",
       "      <th>04</th>\n",
       "      <th>...</th>\n",
       "      <th>zoolander</th>\n",
       "      <th>zumba</th>\n",
       "      <th>óg</th>\n",
       "      <th>деньги</th>\n",
       "      <th>الخفجي</th>\n",
       "      <th>اليوم_الوطني</th>\n",
       "      <th>ध_य</th>\n",
       "      <th>य_ब</th>\n",
       "      <th>सत</th>\n",
       "      <th>アニメ</th>\n",
       "    </tr>\n",
       "  </thead>\n",
       "  <tbody>\n",
       "    <tr>\n",
       "      <th>0</th>\n",
       "      <td>0.0</td>\n",
       "      <td>0.0</td>\n",
       "      <td>0.0</td>\n",
       "      <td>0.0</td>\n",
       "      <td>0.0</td>\n",
       "      <td>0.0</td>\n",
       "      <td>0.0</td>\n",
       "      <td>0.0</td>\n",
       "      <td>0.0</td>\n",
       "      <td>0.0</td>\n",
       "      <td>...</td>\n",
       "      <td>0.0</td>\n",
       "      <td>0.0</td>\n",
       "      <td>0.0</td>\n",
       "      <td>0.0</td>\n",
       "      <td>0.0</td>\n",
       "      <td>0.0</td>\n",
       "      <td>0.0</td>\n",
       "      <td>0.0</td>\n",
       "      <td>0.0</td>\n",
       "      <td>0.0</td>\n",
       "    </tr>\n",
       "    <tr>\n",
       "      <th>1</th>\n",
       "      <td>0.0</td>\n",
       "      <td>0.0</td>\n",
       "      <td>0.0</td>\n",
       "      <td>0.0</td>\n",
       "      <td>0.0</td>\n",
       "      <td>0.0</td>\n",
       "      <td>0.0</td>\n",
       "      <td>0.0</td>\n",
       "      <td>0.0</td>\n",
       "      <td>0.0</td>\n",
       "      <td>...</td>\n",
       "      <td>0.0</td>\n",
       "      <td>0.0</td>\n",
       "      <td>0.0</td>\n",
       "      <td>0.0</td>\n",
       "      <td>0.0</td>\n",
       "      <td>0.0</td>\n",
       "      <td>0.0</td>\n",
       "      <td>0.0</td>\n",
       "      <td>0.0</td>\n",
       "      <td>0.0</td>\n",
       "    </tr>\n",
       "    <tr>\n",
       "      <th>2</th>\n",
       "      <td>0.0</td>\n",
       "      <td>0.0</td>\n",
       "      <td>0.0</td>\n",
       "      <td>0.0</td>\n",
       "      <td>0.0</td>\n",
       "      <td>0.0</td>\n",
       "      <td>0.0</td>\n",
       "      <td>0.0</td>\n",
       "      <td>0.0</td>\n",
       "      <td>0.0</td>\n",
       "      <td>...</td>\n",
       "      <td>0.0</td>\n",
       "      <td>0.0</td>\n",
       "      <td>0.0</td>\n",
       "      <td>0.0</td>\n",
       "      <td>0.0</td>\n",
       "      <td>0.0</td>\n",
       "      <td>0.0</td>\n",
       "      <td>0.0</td>\n",
       "      <td>0.0</td>\n",
       "      <td>0.0</td>\n",
       "    </tr>\n",
       "    <tr>\n",
       "      <th>3</th>\n",
       "      <td>0.0</td>\n",
       "      <td>0.0</td>\n",
       "      <td>0.0</td>\n",
       "      <td>0.0</td>\n",
       "      <td>0.0</td>\n",
       "      <td>0.0</td>\n",
       "      <td>0.0</td>\n",
       "      <td>0.0</td>\n",
       "      <td>0.0</td>\n",
       "      <td>0.0</td>\n",
       "      <td>...</td>\n",
       "      <td>0.0</td>\n",
       "      <td>0.0</td>\n",
       "      <td>0.0</td>\n",
       "      <td>0.0</td>\n",
       "      <td>0.0</td>\n",
       "      <td>0.0</td>\n",
       "      <td>0.0</td>\n",
       "      <td>0.0</td>\n",
       "      <td>0.0</td>\n",
       "      <td>0.0</td>\n",
       "    </tr>\n",
       "    <tr>\n",
       "      <th>4</th>\n",
       "      <td>0.0</td>\n",
       "      <td>0.0</td>\n",
       "      <td>0.0</td>\n",
       "      <td>0.0</td>\n",
       "      <td>0.0</td>\n",
       "      <td>0.0</td>\n",
       "      <td>0.0</td>\n",
       "      <td>0.0</td>\n",
       "      <td>0.0</td>\n",
       "      <td>0.0</td>\n",
       "      <td>...</td>\n",
       "      <td>0.0</td>\n",
       "      <td>0.0</td>\n",
       "      <td>0.0</td>\n",
       "      <td>0.0</td>\n",
       "      <td>0.0</td>\n",
       "      <td>0.0</td>\n",
       "      <td>0.0</td>\n",
       "      <td>0.0</td>\n",
       "      <td>0.0</td>\n",
       "      <td>0.0</td>\n",
       "    </tr>\n",
       "    <tr>\n",
       "      <th>...</th>\n",
       "      <td>...</td>\n",
       "      <td>...</td>\n",
       "      <td>...</td>\n",
       "      <td>...</td>\n",
       "      <td>...</td>\n",
       "      <td>...</td>\n",
       "      <td>...</td>\n",
       "      <td>...</td>\n",
       "      <td>...</td>\n",
       "      <td>...</td>\n",
       "      <td>...</td>\n",
       "      <td>...</td>\n",
       "      <td>...</td>\n",
       "      <td>...</td>\n",
       "      <td>...</td>\n",
       "      <td>...</td>\n",
       "      <td>...</td>\n",
       "      <td>...</td>\n",
       "      <td>...</td>\n",
       "      <td>...</td>\n",
       "      <td>...</td>\n",
       "    </tr>\n",
       "    <tr>\n",
       "      <th>3608</th>\n",
       "      <td>0.0</td>\n",
       "      <td>0.0</td>\n",
       "      <td>0.0</td>\n",
       "      <td>0.0</td>\n",
       "      <td>0.0</td>\n",
       "      <td>0.0</td>\n",
       "      <td>0.0</td>\n",
       "      <td>0.0</td>\n",
       "      <td>0.0</td>\n",
       "      <td>0.0</td>\n",
       "      <td>...</td>\n",
       "      <td>0.0</td>\n",
       "      <td>0.0</td>\n",
       "      <td>0.0</td>\n",
       "      <td>0.0</td>\n",
       "      <td>0.0</td>\n",
       "      <td>0.0</td>\n",
       "      <td>0.0</td>\n",
       "      <td>0.0</td>\n",
       "      <td>0.0</td>\n",
       "      <td>0.0</td>\n",
       "    </tr>\n",
       "    <tr>\n",
       "      <th>3609</th>\n",
       "      <td>0.0</td>\n",
       "      <td>0.0</td>\n",
       "      <td>0.0</td>\n",
       "      <td>0.0</td>\n",
       "      <td>0.0</td>\n",
       "      <td>0.0</td>\n",
       "      <td>0.0</td>\n",
       "      <td>0.0</td>\n",
       "      <td>0.0</td>\n",
       "      <td>0.0</td>\n",
       "      <td>...</td>\n",
       "      <td>0.0</td>\n",
       "      <td>0.0</td>\n",
       "      <td>0.0</td>\n",
       "      <td>0.0</td>\n",
       "      <td>0.0</td>\n",
       "      <td>0.0</td>\n",
       "      <td>0.0</td>\n",
       "      <td>0.0</td>\n",
       "      <td>0.0</td>\n",
       "      <td>0.0</td>\n",
       "    </tr>\n",
       "    <tr>\n",
       "      <th>3610</th>\n",
       "      <td>0.0</td>\n",
       "      <td>0.0</td>\n",
       "      <td>0.0</td>\n",
       "      <td>0.0</td>\n",
       "      <td>0.0</td>\n",
       "      <td>0.0</td>\n",
       "      <td>0.0</td>\n",
       "      <td>0.0</td>\n",
       "      <td>0.0</td>\n",
       "      <td>0.0</td>\n",
       "      <td>...</td>\n",
       "      <td>0.0</td>\n",
       "      <td>0.0</td>\n",
       "      <td>0.0</td>\n",
       "      <td>0.0</td>\n",
       "      <td>0.0</td>\n",
       "      <td>0.0</td>\n",
       "      <td>0.0</td>\n",
       "      <td>0.0</td>\n",
       "      <td>0.0</td>\n",
       "      <td>0.0</td>\n",
       "    </tr>\n",
       "    <tr>\n",
       "      <th>3611</th>\n",
       "      <td>0.0</td>\n",
       "      <td>0.0</td>\n",
       "      <td>0.0</td>\n",
       "      <td>0.0</td>\n",
       "      <td>0.0</td>\n",
       "      <td>0.0</td>\n",
       "      <td>0.0</td>\n",
       "      <td>0.0</td>\n",
       "      <td>0.0</td>\n",
       "      <td>0.0</td>\n",
       "      <td>...</td>\n",
       "      <td>0.0</td>\n",
       "      <td>0.0</td>\n",
       "      <td>0.0</td>\n",
       "      <td>0.0</td>\n",
       "      <td>0.0</td>\n",
       "      <td>0.0</td>\n",
       "      <td>0.0</td>\n",
       "      <td>0.0</td>\n",
       "      <td>0.0</td>\n",
       "      <td>0.0</td>\n",
       "    </tr>\n",
       "    <tr>\n",
       "      <th>3612</th>\n",
       "      <td>0.0</td>\n",
       "      <td>0.0</td>\n",
       "      <td>0.0</td>\n",
       "      <td>0.0</td>\n",
       "      <td>0.0</td>\n",
       "      <td>0.0</td>\n",
       "      <td>0.0</td>\n",
       "      <td>0.0</td>\n",
       "      <td>0.0</td>\n",
       "      <td>0.0</td>\n",
       "      <td>...</td>\n",
       "      <td>0.0</td>\n",
       "      <td>0.0</td>\n",
       "      <td>0.0</td>\n",
       "      <td>0.0</td>\n",
       "      <td>0.0</td>\n",
       "      <td>0.0</td>\n",
       "      <td>0.0</td>\n",
       "      <td>0.0</td>\n",
       "      <td>0.0</td>\n",
       "      <td>0.0</td>\n",
       "    </tr>\n",
       "  </tbody>\n",
       "</table>\n",
       "<p>3613 rows × 10115 columns</p>\n",
       "</div>"
      ],
      "text/plain": [
       "       00  000  00pm  00tiffanyr   01   02   03  0303  034   04  ...  \\\n",
       "0     0.0  0.0   0.0         0.0  0.0  0.0  0.0   0.0  0.0  0.0  ...   \n",
       "1     0.0  0.0   0.0         0.0  0.0  0.0  0.0   0.0  0.0  0.0  ...   \n",
       "2     0.0  0.0   0.0         0.0  0.0  0.0  0.0   0.0  0.0  0.0  ...   \n",
       "3     0.0  0.0   0.0         0.0  0.0  0.0  0.0   0.0  0.0  0.0  ...   \n",
       "4     0.0  0.0   0.0         0.0  0.0  0.0  0.0   0.0  0.0  0.0  ...   \n",
       "...   ...  ...   ...         ...  ...  ...  ...   ...  ...  ...  ...   \n",
       "3608  0.0  0.0   0.0         0.0  0.0  0.0  0.0   0.0  0.0  0.0  ...   \n",
       "3609  0.0  0.0   0.0         0.0  0.0  0.0  0.0   0.0  0.0  0.0  ...   \n",
       "3610  0.0  0.0   0.0         0.0  0.0  0.0  0.0   0.0  0.0  0.0  ...   \n",
       "3611  0.0  0.0   0.0         0.0  0.0  0.0  0.0   0.0  0.0  0.0  ...   \n",
       "3612  0.0  0.0   0.0         0.0  0.0  0.0  0.0   0.0  0.0  0.0  ...   \n",
       "\n",
       "      zoolander  zumba   óg  деньги  الخفجي  اليوم_الوطني  ध_य  य_ब   सत  アニメ  \n",
       "0           0.0    0.0  0.0     0.0     0.0           0.0  0.0  0.0  0.0  0.0  \n",
       "1           0.0    0.0  0.0     0.0     0.0           0.0  0.0  0.0  0.0  0.0  \n",
       "2           0.0    0.0  0.0     0.0     0.0           0.0  0.0  0.0  0.0  0.0  \n",
       "3           0.0    0.0  0.0     0.0     0.0           0.0  0.0  0.0  0.0  0.0  \n",
       "4           0.0    0.0  0.0     0.0     0.0           0.0  0.0  0.0  0.0  0.0  \n",
       "...         ...    ...  ...     ...     ...           ...  ...  ...  ...  ...  \n",
       "3608        0.0    0.0  0.0     0.0     0.0           0.0  0.0  0.0  0.0  0.0  \n",
       "3609        0.0    0.0  0.0     0.0     0.0           0.0  0.0  0.0  0.0  0.0  \n",
       "3610        0.0    0.0  0.0     0.0     0.0           0.0  0.0  0.0  0.0  0.0  \n",
       "3611        0.0    0.0  0.0     0.0     0.0           0.0  0.0  0.0  0.0  0.0  \n",
       "3612        0.0    0.0  0.0     0.0     0.0           0.0  0.0  0.0  0.0  0.0  \n",
       "\n",
       "[3613 rows x 10115 columns]"
      ]
     },
     "execution_count": 35,
     "metadata": {},
     "output_type": "execute_result"
    }
   ],
   "source": [
    "vectorizer = TfidfVectorizer()\n",
    "vectors = vectorizer.fit_transform(train_df['text'])\n",
    "feature_names = vectorizer.get_feature_names()\n",
    "dense = vectors.todense()\n",
    "denselist = dense.tolist()\n",
    "df = pd.DataFrame(denselist, columns=feature_names)\n",
    "df"
   ]
  },
  {
   "cell_type": "code",
   "execution_count": 36,
   "metadata": {},
   "outputs": [
    {
     "data": {
      "text/plain": [
       "['2k17', '2much', '2nd', '30', '300', '301', '30am', '30pm', '30s', '31']"
      ]
     },
     "execution_count": 36,
     "metadata": {},
     "output_type": "execute_result"
    }
   ],
   "source": [
    "feature_names[100:110]"
   ]
  },
  {
   "cell_type": "markdown",
   "metadata": {},
   "source": [
    "    Now, we got the feature names for features [100:110] with TF-IDF!\n"
   ]
  },
  {
   "cell_type": "markdown",
   "metadata": {},
   "source": [
    "---\n",
    "### ** >>> Exercise 3 (Take home): **  \n",
    "Can you interpret the results above? What do they mean?"
   ]
  },
  {
   "cell_type": "markdown",
   "metadata": {},
   "source": [
    "    Before the exercise, using scikit-learn DecisionTreeClassifier performs word frequency and uses these as features to train a model."
   ]
  },
  {
   "cell_type": "code",
   "execution_count": 37,
   "metadata": {},
   "outputs": [
    {
     "name": "stdout",
     "output_type": "stream",
     "text": [
      "X_train.shape:  (3613, 500)\n",
      "y_train.shape:  (3613,)\n",
      "X_test.shape:  (347, 500)\n",
      "y_test.shape:  (347,)\n"
     ]
    }
   ],
   "source": [
    "from sklearn.tree import DecisionTreeClassifier\n",
    "\n",
    "# for a classificaiton problem, you need to provide both training & testing data\n",
    "X_train = BOW_500.transform(train_df['text'])\n",
    "y_train = train_df['emotion']\n",
    "\n",
    "X_test = BOW_500.transform(test_df['text'])\n",
    "y_test = test_df['emotion']\n",
    "\n",
    "## take a look at data dimension is a good habbit  :)\n",
    "print('X_train.shape: ', X_train.shape)\n",
    "print('y_train.shape: ', y_train.shape)\n",
    "print('X_test.shape: ', X_test.shape)\n",
    "print('y_test.shape: ', y_test.shape)"
   ]
  },
  {
   "cell_type": "code",
   "execution_count": 38,
   "metadata": {},
   "outputs": [],
   "source": [
    "## build DecisionTree model\n",
    "DT_model = DecisionTreeClassifier(random_state=0)\n",
    "\n",
    "## training!\n",
    "DT_model = DT_model.fit(X_train, y_train)\n",
    "\n",
    "## predict!\n",
    "y_train_pred = DT_model.predict(X_train)\n",
    "y_test_pred = DT_model.predict(X_test)"
   ]
  },
  {
   "cell_type": "markdown",
   "metadata": {},
   "source": [
    "    check the results of our model's performance"
   ]
  },
  {
   "cell_type": "code",
   "execution_count": 40,
   "metadata": {},
   "outputs": [
    {
     "name": "stdout",
     "output_type": "stream",
     "text": [
      "training accuracy: 0.99\n",
      "testing accuracy: 0.66\n"
     ]
    }
   ],
   "source": [
    "from sklearn.metrics import accuracy_score\n",
    "\n",
    "acc_train = accuracy_score(y_true=y_train, y_pred=y_train_pred)\n",
    "acc_test = accuracy_score(y_true=y_test, y_pred=y_test_pred)\n",
    "\n",
    "print('training accuracy: {}'.format(round(acc_train, 2)))\n",
    "print('testing accuracy: {}'.format(round(acc_test, 2)))"
   ]
  },
  {
   "cell_type": "code",
   "execution_count": 41,
   "metadata": {},
   "outputs": [
    {
     "name": "stdout",
     "output_type": "stream",
     "text": [
      "              precision    recall  f1-score   support\n",
      "\n",
      "       anger       0.64      0.69      0.67        84\n",
      "        fear       0.65      0.67      0.66       110\n",
      "         joy       0.68      0.66      0.67        79\n",
      "     sadness       0.66      0.59      0.62        74\n",
      "\n",
      "    accuracy                           0.66       347\n",
      "   macro avg       0.66      0.65      0.66       347\n",
      "weighted avg       0.66      0.66      0.66       347\n",
      "\n"
     ]
    }
   ],
   "source": [
    "## precision, recall, f1-score,\n",
    "from sklearn.metrics import classification_report\n",
    "print(classification_report(y_true=y_test, y_pred=y_test_pred))"
   ]
  },
  {
   "cell_type": "code",
   "execution_count": 42,
   "metadata": {},
   "outputs": [
    {
     "name": "stdout",
     "output_type": "stream",
     "text": [
      "[[58 16  6  4]\n",
      " [14 74 10 12]\n",
      " [ 9 11 52  7]\n",
      " [ 9 13  8 44]]\n"
     ]
    }
   ],
   "source": [
    "## check by confusion matrix\n",
    "from sklearn.metrics import confusion_matrix\n",
    "cm = confusion_matrix(y_true=y_test, y_pred=y_test_pred) \n",
    "print(cm)"
   ]
  },
  {
   "cell_type": "code",
   "execution_count": 44,
   "metadata": {
    "scrolled": true
   },
   "outputs": [
    {
     "data": {
      "image/png": "[encoded data removed]",
      "text/plain": [
       "<Figure size 360x360 with 2 Axes>"
      ]
     },
     "metadata": {
      "needs_background": "light"
     },
     "output_type": "display_data"
    }
   ],
   "source": [
    "# Funciton for visualizing confusion_matrix\n",
    "import matplotlib.pyplot as plt\n",
    "import seaborn as sns\n",
    "import numpy as np\n",
    "import itertools\n",
    "\n",
    "def plot_confusion_matrix(cm, classes, title='Confusion matrix',\n",
    "                          cmap=sns.cubehelix_palette(as_cmap=True)):\n",
    "    \"\"\"\n",
    "    This function is modified from: \n",
    "    http://scikit-learn.org/stable/auto_examples/model_selection/plot_confusion_matrix.html\n",
    "    \"\"\"\n",
    "    classes.sort()\n",
    "    tick_marks = np.arange(len(classes))    \n",
    "    \n",
    "    fig, ax = plt.subplots(figsize=(5,5))\n",
    "    im = ax.imshow(cm, interpolation='nearest', cmap=cmap)\n",
    "    ax.figure.colorbar(im, ax=ax)\n",
    "    ax.set(xticks=np.arange(cm.shape[1]),\n",
    "           yticks=np.arange(cm.shape[0]),\n",
    "           xticklabels = classes,\n",
    "           yticklabels = classes,\n",
    "           title = title,\n",
    "           xlabel = 'True label',\n",
    "           ylabel = 'Predicted label')\n",
    "\n",
    "    fmt = 'd'\n",
    "    thresh = cm.max() / 2.\n",
    "    for i, j in itertools.product(range(cm.shape[0]), range(cm.shape[1])):\n",
    "        plt.text(j, i, format(cm[i, j], fmt), horizontalalignment=\"center\", color=\"white\" if cm[i, j] > thresh else \"black\")\n",
    "    ylim_top = len(classes) - 0.5\n",
    "    plt.ylim([ylim_top, -.5])\n",
    "    plt.tight_layout()\n",
    "    plt.show()\n",
    "\n",
    "# plot your confusion matrix\n",
    "my_tags = ['anger', 'fear', 'joy', 'sadness']\n",
    "plot_confusion_matrix(cm, classes=my_tags, title='Confusion matrix')"
   ]
  },
  {
   "cell_type": "markdown",
   "metadata": {},
   "source": [
    "    Answer here:\n",
    "\n",
    "    This confusion matrix is a summary of prediction results on this classification. The number of correct and incorrect predictions are summarized with count values and broken down by each class. Therefore, calculating a confusion matrix can five us a better idea of what your classification model is getting right and what types of errors it is making."
   ]
  },
  {
   "cell_type": "markdown",
   "metadata": {},
   "source": [
    "    Let's take \"anger\" for example,\n",
    "    \n",
    "    (1) For the row, it means “true positive” and “false positive”\n",
    "    \n",
    "        - 58 is “true positive” for correctly predicted event values(anger).\n",
    "        - 16, 6 ,4 are “false positive” for incorrectly predicted event values.\n",
    "        \n",
    "    (2) For the others, it means “true negative” and “false negative”\n",
    "    \n",
    "        - 14, 9, 9 are “false negative” for correctly predicted no-event values.\n",
    "        - 74, 11, 13, 10, 52, 8, 12, 7, 44 are “true negative” for correctly predicted no-event values."
   ]
  },
  {
   "cell_type": "markdown",
   "metadata": {},
   "source": [
    "---\n",
    "### ** >>> Exercise 4 (Take home): **  \n",
    "Build a model using a ```Naive Bayes``` model and train it. What are the testing results? \n",
    "\n",
    "*Reference*: https://scikit-learn.org/stable/modules/generated/sklearn.naive_bayes.MultinomialNB.html"
   ]
  },
  {
   "cell_type": "code",
   "execution_count": 47,
   "metadata": {},
   "outputs": [
    {
     "name": "stdout",
     "output_type": "stream",
     "text": [
      "(3613, 500)\n",
      "(3613,)\n"
     ]
    }
   ],
   "source": [
    "print(X_train.shape)\n",
    "print(y_train.shape)"
   ]
  },
  {
   "cell_type": "markdown",
   "metadata": {},
   "source": [
    "    Using Navie Bayes model to train..., instead of DecisionTreeClassifier "
   ]
  },
  {
   "cell_type": "code",
   "execution_count": 48,
   "metadata": {},
   "outputs": [],
   "source": [
    "from sklearn.naive_bayes import MultinomialNB\n",
    "\n",
    "naive_bayes_classifier = MultinomialNB()\n",
    "NB_model = naive_bayes_classifier.fit(X_train, y_train)"
   ]
  },
  {
   "cell_type": "code",
   "execution_count": 49,
   "metadata": {},
   "outputs": [],
   "source": [
    "NB_y_train_pred = NB_model.predict(X_train)\n",
    "NB_y_test_pred = NB_model.predict(X_test)"
   ]
  },
  {
   "cell_type": "code",
   "execution_count": 50,
   "metadata": {},
   "outputs": [
    {
     "name": "stdout",
     "output_type": "stream",
     "text": [
      "training accuracy: 0.79\n",
      "testing accuracy: 0.7\n"
     ]
    }
   ],
   "source": [
    "NB_acc_train = accuracy_score(y_true=y_train, y_pred=NB_y_train_pred)\n",
    "NB_acc_test = accuracy_score(y_true=y_test, y_pred=NB_y_test_pred)\n",
    "\n",
    "print('training accuracy: {}'.format(round(NB_acc_train, 2)))\n",
    "print('testing accuracy: {}'.format(round(NB_acc_test, 2)))"
   ]
  },
  {
   "cell_type": "code",
   "execution_count": 51,
   "metadata": {
    "scrolled": true
   },
   "outputs": [
    {
     "name": "stdout",
     "output_type": "stream",
     "text": [
      "              precision    recall  f1-score   support\n",
      "\n",
      "       anger       0.64      0.67      0.65        84\n",
      "        fear       0.73      0.77      0.75       110\n",
      "         joy       0.77      0.70      0.73        79\n",
      "     sadness       0.64      0.62      0.63        74\n",
      "\n",
      "    accuracy                           0.70       347\n",
      "   macro avg       0.70      0.69      0.69       347\n",
      "weighted avg       0.70      0.70      0.70       347\n",
      "\n"
     ]
    }
   ],
   "source": [
    "print(classification_report(y_true=y_test, y_pred=NB_y_test_pred))"
   ]
  },
  {
   "cell_type": "code",
   "execution_count": 52,
   "metadata": {},
   "outputs": [
    {
     "name": "stdout",
     "output_type": "stream",
     "text": [
      "[[56 14  5  9]\n",
      " [ 9 85  5 11]\n",
      " [10  8 55  6]\n",
      " [12 10  6 46]]\n"
     ]
    }
   ],
   "source": [
    "cm = confusion_matrix(y_true=y_test, y_pred=NB_y_test_pred) \n",
    "print(cm)"
   ]
  },
  {
   "cell_type": "code",
   "execution_count": 53,
   "metadata": {},
   "outputs": [
    {
     "data": {
      "image/png": "[encoded data removed]",
      "text/plain": [
       "<Figure size 360x360 with 2 Axes>"
      ]
     },
     "metadata": {
      "needs_background": "light"
     },
     "output_type": "display_data"
    }
   ],
   "source": [
    "my_tags = ['anger', 'fear', 'joy', 'sadness']\n",
    "plot_confusion_matrix(cm, classes=my_tags, title='Confusion matrix')"
   ]
  },
  {
   "cell_type": "markdown",
   "metadata": {},
   "source": [
    "    The above is my testing results.\n",
    "    Checking the results by  confusion matrix, again!"
   ]
  },
  {
   "cell_type": "markdown",
   "metadata": {},
   "source": [
    "---\n",
    "### ** >>> Exercise 5 (Take home): **  \n",
    "\n",
    "How do the results from the Naive Bayes model and the Decision Tree model compare? How do you interpret these differences? Use the theoretical background covered in class to try and explain these differences."
   ]
  },
  {
   "cell_type": "markdown",
   "metadata": {},
   "source": [
    "    Let me interpret these differences! "
   ]
  },
  {
   "cell_type": "markdown",
   "metadata": {},
   "source": [
    "    the result of the Decision Tree model "
   ]
  },
  {
   "cell_type": "markdown",
   "metadata": {},
   "source": [
    "                     precision    recall  f1-score   support\n",
    "\n",
    "           anger       0.67      0.70      0.69        84\n",
    "            fear       0.67      0.65      0.66       110\n",
    "             joy       0.65      0.65      0.65        79\n",
    "         sadness       0.66      0.65      0.65        74\n",
    "\n",
    "        accuracy                           0.66       347\n",
    "       macro avg       0.66      0.66      0.66       347\n",
    "    weighted avg       0.66      0.66      0.66       347"
   ]
  },
  {
   "cell_type": "markdown",
   "metadata": {},
   "source": [
    "    the result of the Naive Bayes"
   ]
  },
  {
   "cell_type": "markdown",
   "metadata": {},
   "source": [
    "                        precision    recall  f1-score   support\n",
    "\n",
    "               anger       0.65      0.65      0.65        84\n",
    "                fear       0.72      0.77      0.75       110\n",
    "                 joy       0.76      0.70      0.73        79\n",
    "             sadness       0.63      0.62      0.63        74\n",
    "\n",
    "            accuracy                           0.69       347\n",
    "           macro avg       0.69      0.69      0.69       347\n",
    "        weighted avg       0.70      0.69      0.69       347"
   ]
  },
  {
   "cell_type": "markdown",
   "metadata": {},
   "source": [
    "    Answer here(Use the theoretical background covered in class):\n",
    "\n",
    "    Let's discuss Decision tree vs. Naive Bayes classifier. \n",
    "\n",
    "    For the decision tree classifier, it is flexible, easy to understand and generate rules. Howerver, it might suffer from \"overfitting\". And the way classfies by rectangular partitioning, so does not handle correlated features very well. That's way it does not show well result in this example, we still need to prune it.\n",
    "\n",
    "    For the Naive Bayes classifier, it also easy to implement. But it has one assumption - class conditional independence make the way not pratical(because dependencies exist among variables). Take this for example, \"angry\",\"fear\", \"joy\" and \"sadness\" do have dependencies among these!! Therefore, it cannot be modeled accurately by Naive Bayesian Classifier."
   ]
  },
  {
   "cell_type": "markdown",
   "metadata": {},
   "source": [
    "---\n",
    "### ** >>> Exercise 6 (Take home): **  \n",
    "\n",
    "Plot the Training and Validation Accuracy and Loss (different plots), just like the images below (Note: the pictures below are an example from a different model). How to interpret the graphs you got? How are they related to the concept of overfitting/underfitting covered in class?\n",
    "<table><tr>\n",
    "    <td><img src=\"pics/pic3.png\" style=\"width: 300px;\"/> </td>\n",
    "    <td><img src=\"pics/pic4.png\" style=\"width: 300px;\"/> </td>\n",
    "</tr></table>"
   ]
  },
  {
   "cell_type": "markdown",
   "metadata": {},
   "source": [
    "    (a) Training and Validation Accuracy "
   ]
  },
  {
   "cell_type": "markdown",
   "metadata": {},
   "source": [
    "    First, Plot the Training and Validation Accuracy!"
   ]
  },
  {
   "cell_type": "code",
   "execution_count": 65,
   "metadata": {
    "scrolled": true
   },
   "outputs": [
    {
     "data": {
      "image/png": "[encoded data removed]",
      "text/plain": [
       "<Figure size 432x288 with 1 Axes>"
      ]
     },
     "metadata": {
      "needs_background": "light"
     },
     "output_type": "display_data"
    }
   ],
   "source": [
    "acc_train = training_log['accuracy']\n",
    "acc_val = training_log['val_accuracy']\n",
    "epochs = range(0,25)\n",
    "plt.plot(epochs, acc_train, 'b', label='Training accuracy')\n",
    "plt.plot(epochs, acc_val, 'r', label='validation accuracy')\n",
    "plt.title('Training and Validation accuracy')\n",
    "plt.xlabel('Epochs')\n",
    "plt.ylabel('Accuracy')\n",
    "plt.legend()\n",
    "plt.show()"
   ]
  },
  {
   "cell_type": "code",
   "execution_count": 66,
   "metadata": {},
   "outputs": [
    {
     "data": {
      "text/html": [
       "<div>\n",
       "<style scoped>\n",
       "    .dataframe tbody tr th:only-of-type {\n",
       "        vertical-align: middle;\n",
       "    }\n",
       "\n",
       "    .dataframe tbody tr th {\n",
       "        vertical-align: top;\n",
       "    }\n",
       "\n",
       "    .dataframe thead th {\n",
       "        text-align: right;\n",
       "    }\n",
       "</style>\n",
       "<table border=\"1\" class=\"dataframe\">\n",
       "  <thead>\n",
       "    <tr style=\"text-align: right;\">\n",
       "      <th></th>\n",
       "      <th>epoch</th>\n",
       "      <th>accuracy</th>\n",
       "      <th>loss</th>\n",
       "      <th>val_accuracy</th>\n",
       "      <th>val_loss</th>\n",
       "    </tr>\n",
       "  </thead>\n",
       "  <tbody>\n",
       "    <tr>\n",
       "      <th>21</th>\n",
       "      <td>21</td>\n",
       "      <td>0.978135</td>\n",
       "      <td>0.066586</td>\n",
       "      <td>0.657061</td>\n",
       "      <td>1.645079</td>\n",
       "    </tr>\n",
       "  </tbody>\n",
       "</table>\n",
       "</div>"
      ],
      "text/plain": [
       "    epoch  accuracy      loss  val_accuracy  val_loss\n",
       "21     21  0.978135  0.066586      0.657061  1.645079"
      ]
     },
     "execution_count": 66,
     "metadata": {},
     "output_type": "execute_result"
    }
   ],
   "source": [
    "training_log.loc[training_log['accuracy'] == max(acc_train)]"
   ]
  },
  {
   "cell_type": "code",
   "execution_count": 67,
   "metadata": {},
   "outputs": [
    {
     "data": {
      "text/html": [
       "<div>\n",
       "<style scoped>\n",
       "    .dataframe tbody tr th:only-of-type {\n",
       "        vertical-align: middle;\n",
       "    }\n",
       "\n",
       "    .dataframe tbody tr th {\n",
       "        vertical-align: top;\n",
       "    }\n",
       "\n",
       "    .dataframe thead th {\n",
       "        text-align: right;\n",
       "    }\n",
       "</style>\n",
       "<table border=\"1\" class=\"dataframe\">\n",
       "  <thead>\n",
       "    <tr style=\"text-align: right;\">\n",
       "      <th></th>\n",
       "      <th>epoch</th>\n",
       "      <th>accuracy</th>\n",
       "      <th>loss</th>\n",
       "      <th>val_accuracy</th>\n",
       "      <th>val_loss</th>\n",
       "    </tr>\n",
       "  </thead>\n",
       "  <tbody>\n",
       "    <tr>\n",
       "      <th>3</th>\n",
       "      <td>3</td>\n",
       "      <td>0.849986</td>\n",
       "      <td>0.420641</td>\n",
       "      <td>0.697406</td>\n",
       "      <td>0.808793</td>\n",
       "    </tr>\n",
       "  </tbody>\n",
       "</table>\n",
       "</div>"
      ],
      "text/plain": [
       "   epoch  accuracy      loss  val_accuracy  val_loss\n",
       "3      3  0.849986  0.420641      0.697406  0.808793"
      ]
     },
     "execution_count": 67,
     "metadata": {},
     "output_type": "execute_result"
    }
   ],
   "source": [
    "training_log.loc[training_log['val_accuracy'] == max(acc_val)]"
   ]
  },
  {
   "cell_type": "markdown",
   "metadata": {},
   "source": [
    "    Then, interpreting the graphs I got!"
   ]
  },
  {
   "cell_type": "markdown",
   "metadata": {},
   "source": [
    "    The plot clearly shows that increasing the tree depth in the early stages results in a corresponding imporovement in both train and validation sets. This continues until a depth of around 21 levels, after which the model is shown to overfit the training dataset at the cost of worse performance on the holdout dataset(i.e. validatioin sets)."
   ]
  },
  {
   "cell_type": "markdown",
   "metadata": {},
   "source": [
    "    -----------------------------------------\n",
    "    (b) the Training and Validation Loss "
   ]
  },
  {
   "cell_type": "markdown",
   "metadata": {},
   "source": [
    "    First, Plot the Training and Validation Loss!"
   ]
  },
  {
   "cell_type": "code",
   "execution_count": 71,
   "metadata": {},
   "outputs": [
    {
     "data": {
      "image/png": "[encoded data removed]",
      "text/plain": [
       "<Figure size 432x288 with 1 Axes>"
      ]
     },
     "metadata": {
      "needs_background": "light"
     },
     "output_type": "display_data"
    }
   ],
   "source": [
    "loss_train = training_log['loss']\n",
    "loss_val = training_log['val_loss']\n",
    "epochs = range(0,25)\n",
    "plt.plot(epochs, loss_train, 'b', label='Training loss')\n",
    "plt.plot(epochs, loss_val, 'r', label='validation loss')\n",
    "plt.title('Training and Validation loss')\n",
    "plt.xlabel('Epochs')\n",
    "plt.ylabel('Loss')\n",
    "plt.legend()\n",
    "plt.show()"
   ]
  },
  {
   "cell_type": "markdown",
   "metadata": {},
   "source": [
    "    Then, interpreting the graphs I got, again!"
   ]
  },
  {
   "cell_type": "markdown",
   "metadata": {},
   "source": [
    "    Because when the training loss decreases, the validation loss increases.Found that the model is definitely overfitting.(We can see the result shows that training loss << validation loss. As training loss much less than validation loss. It means \"overfitting\".)"
   ]
  },
  {
   "cell_type": "markdown",
   "metadata": {},
   "source": [
    "---\n",
    "### ** >>> Exercise 7 (Take home): **  \n",
    "\n",
    "Now, we have the word vectors, but our input data is a sequence of words (or say sentence). \n",
    "How can we utilize these \"word\" vectors to represent the sentence data and train our model?\n"
   ]
  },
  {
   "cell_type": "markdown",
   "metadata": {},
   "source": [
    "    Use \"w2v_google_model \""
   ]
  },
  {
   "cell_type": "code",
   "execution_count": 78,
   "metadata": {
    "collapsed": true
   },
   "outputs": [
    {
     "name": "stderr",
     "output_type": "stream",
     "text": [
      "2022-01-07 00:48:12,959 : INFO : loading projection weights from C:/Users/user/Desktop/DataMining/lab2/DM2021-Lab2-master-main/Google News Dataset/GoogleNews-vectors-negative300.bin\n",
      "2022-01-07 00:48:52,333 : INFO : KeyedVectors lifecycle event {'msg': 'loaded (3000000, 300) matrix of type float32 from C:/Users/user/Desktop/DataMining/lab2/DM2021-Lab2-master-main/Google News Dataset/GoogleNews-vectors-negative300.bin', 'binary': True, 'encoding': 'utf8', 'datetime': '2022-01-07T00:48:52.319447', 'gensim': '4.1.2', 'python': '3.8.3 (default, Jul  2 2020, 17:30:36) [MSC v.1916 64 bit (AMD64)]', 'platform': 'Windows-10-10.0.19041-SP0', 'event': 'load_word2vec_format'}\n"
     ]
    },
    {
     "name": "stdout",
     "output_type": "stream",
     "text": [
      "load ok\n"
     ]
    },
    {
     "data": {
      "text/plain": [
       "[('glad', 0.7408890724182129),\n",
       " ('pleased', 0.6632171273231506),\n",
       " ('ecstatic', 0.6626912355422974),\n",
       " ('overjoyed', 0.6599286198616028),\n",
       " ('thrilled', 0.6514049172401428),\n",
       " ('satisfied', 0.6437948942184448),\n",
       " ('proud', 0.636042058467865),\n",
       " ('delighted', 0.6272379159927368),\n",
       " ('disappointed', 0.6269949078559875),\n",
       " ('excited', 0.6247666478157043)]"
      ]
     },
     "execution_count": 78,
     "metadata": {},
     "output_type": "execute_result"
    }
   ],
   "source": [
    "from gensim.models import KeyedVectors\n",
    "\n",
    "model_path = \"C:/Users/user/Desktop/DataMining/lab2/DM2021-Lab2-master-main/Google News Dataset/GoogleNews-vectors-negative300.bin\"\n",
    "w2v_google_model = KeyedVectors.load_word2vec_format(model_path, binary=True)\n",
    "print('load ok')\n",
    "\n",
    "w2v_google_model.most_similar('happy', topn=10)"
   ]
  },
  {
   "cell_type": "markdown",
   "metadata": {},
   "source": [
    "    Use \"glove\""
   ]
  },
  {
   "cell_type": "code",
   "execution_count": 79,
   "metadata": {
    "collapsed": true
   },
   "outputs": [
    {
     "name": "stderr",
     "output_type": "stream",
     "text": [
      "2022-01-07 00:50:33,059 : INFO : loading projection weights from C:\\Users\\user/gensim-data\\glove-twitter-25\\glove-twitter-25.gz\n",
      "2022-01-07 00:51:17,575 : INFO : KeyedVectors lifecycle event {'msg': 'loaded (1193514, 25) matrix of type float32 from C:\\\\Users\\\\user/gensim-data\\\\glove-twitter-25\\\\glove-twitter-25.gz', 'binary': False, 'encoding': 'utf8', 'datetime': '2022-01-07T00:51:17.574423', 'gensim': '4.1.2', 'python': '3.8.3 (default, Jul  2 2020, 17:30:36) [MSC v.1916 64 bit (AMD64)]', 'platform': 'Windows-10-10.0.19041-SP0', 'event': 'load_word2vec_format'}\n"
     ]
    },
    {
     "name": "stdout",
     "output_type": "stream",
     "text": [
      "load ok\n"
     ]
    },
    {
     "data": {
      "text/plain": [
       "[('birthday', 0.9577817320823669),\n",
       " ('thank', 0.937666654586792),\n",
       " ('welcome', 0.9336148500442505),\n",
       " ('love', 0.9176183342933655),\n",
       " ('miss', 0.9164499640464783),\n",
       " ('hello', 0.9158352017402649),\n",
       " ('thanks', 0.9150084853172302),\n",
       " ('merry', 0.9053248763084412),\n",
       " ('bless', 0.9027323722839355),\n",
       " ('wish', 0.9013165235519409)]"
      ]
     },
     "execution_count": 79,
     "metadata": {},
     "output_type": "execute_result"
    }
   ],
   "source": [
    "import gensim.downloader as api\n",
    "import ssl\n",
    "import urllib.request\n",
    "ssl._create_default_https_context = ssl._create_unverified_context\n",
    "\n",
    "glove_twitter_25_model = api.load(\"glove-twitter-25\")\n",
    "print('load ok')\n",
    "\n",
    "glove_twitter_25_model.most_similar('happy', topn=10)"
   ]
  },
  {
   "cell_type": "code",
   "execution_count": 80,
   "metadata": {},
   "outputs": [
    {
     "data": {
      "text/plain": [
       "['This', 'is', 'some', 'text', 'I', 'am', 'processing', 'with', 'Spacy']"
      ]
     },
     "execution_count": 80,
     "metadata": {},
     "output_type": "execute_result"
    }
   ],
   "source": [
    " \"This is some text I am processing with Spacy\".split(' ')"
   ]
  },
  {
   "cell_type": "code",
   "execution_count": 81,
   "metadata": {},
   "outputs": [
    {
     "data": {
      "text/plain": [
       "[array([-0.2890625 ,  0.19921875,  0.16015625,  0.02526855, -0.23632812,\n",
       "         0.10205078,  0.06640625, -0.16503906,  0.12597656,  0.22070312,\n",
       "         0.05517578, -0.28710938, -0.02148438,  0.05541992,  0.01574707,\n",
       "         0.29296875,  0.19433594, -0.01531982,  0.03955078, -0.21484375,\n",
       "         0.00994873,  0.16015625,  0.07958984, -0.05932617,  0.12353516,\n",
       "        -0.27148438, -0.10205078,  0.078125  , -0.07519531,  0.22363281,\n",
       "         0.16210938, -0.04614258,  0.12304688,  0.07275391,  0.25      ,\n",
       "         0.0072937 , -0.38867188,  0.10644531,  0.20996094,  0.06103516,\n",
       "         0.10107422,  0.16894531, -0.15429688, -0.08251953,  0.06542969,\n",
       "        -0.12255859, -0.11621094,  0.04248047,  0.08251953,  0.09716797,\n",
       "        -0.05371094,  0.125     ,  0.15039062, -0.09228516,  0.23925781,\n",
       "         0.15234375,  0.1796875 , -0.26171875,  0.15429688,  0.09619141,\n",
       "        -0.30859375, -0.05224609, -0.18652344, -0.24414062, -0.0612793 ,\n",
       "        -0.12695312,  0.14160156, -0.03295898,  0.03759766, -0.09863281,\n",
       "         0.07324219, -0.046875  ,  0.08203125,  0.02441406,  0.11425781,\n",
       "         0.05200195,  0.02685547,  0.04931641,  0.11035156,  0.44921875,\n",
       "         0.07519531, -0.06835938, -0.10351562,  0.06591797, -0.15234375,\n",
       "        -0.21484375, -0.09179688,  0.37109375, -0.07470703, -0.08886719,\n",
       "         0.12255859, -0.12792969, -0.12597656, -0.23632812,  0.06225586,\n",
       "         0.05957031,  0.08251953,  0.05297852, -0.17871094,  0.21289062,\n",
       "         0.00241089, -0.05786133,  0.02563477, -0.01434326,  0.00646973,\n",
       "        -0.0703125 , -0.08398438, -0.18652344, -0.24707031, -0.21484375,\n",
       "        -0.01269531, -0.02416992,  0.14746094,  0.20214844,  0.19140625,\n",
       "         0.06738281,  0.02307129,  0.05297852, -0.02258301,  0.30664062,\n",
       "        -0.10791016, -0.22460938, -0.10498047,  0.06884766,  0.07226562,\n",
       "         0.07373047, -0.11474609, -0.11474609,  0.05883789, -0.12109375,\n",
       "        -0.15136719,  0.04101562, -0.09863281,  0.06982422,  0.32617188,\n",
       "        -0.27929688, -0.12255859, -0.12890625, -0.12890625,  0.19042969,\n",
       "         0.171875  , -0.05371094, -0.2734375 , -0.08496094, -0.12695312,\n",
       "        -0.24121094,  0.09082031, -0.14355469, -0.0703125 ,  0.06396484,\n",
       "         0.08007812, -0.20605469,  0.03930664,  0.04589844,  0.0612793 ,\n",
       "        -0.23339844,  0.31835938, -0.04956055, -0.03417969, -0.31445312,\n",
       "        -0.18066406,  0.00842285, -0.00765991,  0.09423828,  0.11865234,\n",
       "         0.02722168,  0.08398438,  0.07128906, -0.23339844,  0.21777344,\n",
       "        -0.17480469,  0.05517578,  0.08642578, -0.14746094, -0.03833008,\n",
       "         0.18359375,  0.21484375, -0.28125   ,  0.04980469, -0.20800781,\n",
       "        -0.01177979, -0.08007812, -0.09521484,  0.09375   , -0.01721191,\n",
       "         0.16601562, -0.06787109,  0.18261719,  0.26757812,  0.08056641,\n",
       "        -0.01373291, -0.16601562,  0.13867188, -0.18847656, -0.07666016,\n",
       "        -0.29101562, -0.16015625,  0.32617188, -0.04296875, -0.22558594,\n",
       "         0.02868652, -0.25195312,  0.08935547,  0.203125  , -0.09375   ,\n",
       "         0.07763672,  0.00741577,  0.19726562,  0.14648438, -0.02148438,\n",
       "         0.01611328,  0.34570312,  0.02990723,  0.15625   ,  0.08984375,\n",
       "         0.1875    ,  0.06787109,  0.04785156, -0.03417969,  0.10546875,\n",
       "         0.12402344, -0.07177734,  0.05981445, -0.03491211,  0.10400391,\n",
       "        -0.12353516,  0.07470703,  0.04541016,  0.15625   ,  0.02734375,\n",
       "         0.00386047, -0.05444336,  0.16015625,  0.08447266, -0.1640625 ,\n",
       "         0.03833008, -0.20800781,  0.16015625,  0.00065994,  0.26367188,\n",
       "         0.08496094, -0.23339844, -0.11914062, -0.06494141,  0.04736328,\n",
       "         0.04980469,  0.14941406,  0.02099609,  0.06201172, -0.16894531,\n",
       "         0.171875  ,  0.11865234, -0.1875    ,  0.16796875,  0.08105469,\n",
       "        -0.10595703,  0.27539062, -0.20507812, -0.06884766, -0.10839844,\n",
       "        -0.04467773, -0.00872803, -0.06689453, -0.16308594, -0.109375  ,\n",
       "         0.17089844,  0.18066406, -0.10351562, -0.265625  , -0.03442383,\n",
       "        -0.06445312,  0.28320312,  0.13867188,  0.10400391,  0.10498047,\n",
       "        -0.10791016,  0.34960938, -0.12158203,  0.10644531, -0.11425781,\n",
       "        -0.07568359,  0.03491211,  0.15332031,  0.26367188,  0.11279297,\n",
       "        -0.08349609, -0.15625   , -0.203125  , -0.20605469,  0.0255127 ,\n",
       "        -0.2265625 , -0.02478027, -0.13378906,  0.04907227, -0.1328125 ,\n",
       "        -0.27539062,  0.00463867,  0.12792969,  0.12109375, -0.22949219],\n",
       "       dtype=float32),\n",
       " array([ 0.00704956, -0.07324219,  0.171875  ,  0.02258301, -0.1328125 ,\n",
       "         0.19824219,  0.11279297, -0.10791016,  0.07177734,  0.02087402,\n",
       "        -0.12304688, -0.05908203,  0.10107422,  0.01074219,  0.14355469,\n",
       "         0.25976562, -0.03637695,  0.18554688, -0.07861328, -0.02270508,\n",
       "        -0.12060547,  0.17773438,  0.04956055,  0.01721191,  0.07958984,\n",
       "        -0.0456543 , -0.18847656,  0.18945312, -0.02319336,  0.06298828,\n",
       "         0.09765625, -0.01904297, -0.07910156,  0.15234375,  0.17382812,\n",
       "         0.1015625 , -0.16308594,  0.11474609,  0.10058594, -0.09277344,\n",
       "         0.109375  ,  0.05883789, -0.02160645,  0.06347656,  0.04199219,\n",
       "        -0.0088501 ,  0.03222656,  0.10644531,  0.06445312, -0.11865234,\n",
       "         0.03051758,  0.06689453,  0.12207031, -0.08300781,  0.171875  ,\n",
       "         0.07861328,  0.09521484, -0.00778198,  0.02319336,  0.0234375 ,\n",
       "        -0.0168457 ,  0.15527344, -0.10986328, -0.17675781, -0.11621094,\n",
       "         0.0234375 , -0.01062012,  0.05273438, -0.13378906,  0.07958984,\n",
       "         0.07373047,  0.04394531,  0.11523438, -0.02062988,  0.07470703,\n",
       "        -0.01153564,  0.08056641,  0.04174805,  0.08007812,  0.3515625 ,\n",
       "         0.09667969, -0.21289062,  0.16503906, -0.078125  ,  0.06982422,\n",
       "        -0.00139618, -0.09130859,  0.12988281,  0.25195312, -0.01611328,\n",
       "         0.09326172, -0.14648438, -0.00151062, -0.15136719, -0.02685547,\n",
       "        -0.15722656,  0.02636719,  0.0859375 ,  0.07177734,  0.07714844,\n",
       "        -0.0390625 ,  0.05444336, -0.12792969,  0.09130859, -0.18457031,\n",
       "        -0.03759766, -0.0279541 , -0.08984375, -0.11669922, -0.09863281,\n",
       "         0.0480957 , -0.16210938, -0.10888672,  0.08496094, -0.0456543 ,\n",
       "         0.15820312, -0.03808594, -0.08203125,  0.203125  ,  0.08642578,\n",
       "         0.06933594,  0.03222656, -0.16015625,  0.09472656, -0.0246582 ,\n",
       "         0.05419922,  0.0279541 ,  0.04492188,  0.16992188,  0.07275391,\n",
       "        -0.03637695, -0.01025391, -0.01708984, -0.10742188, -0.0007019 ,\n",
       "        -0.07373047,  0.25390625,  0.05664062,  0.03515625, -0.00860596,\n",
       "         0.18554688,  0.02148438,  0.26367188, -0.02380371, -0.09912109,\n",
       "        -0.04125977, -0.06933594, -0.11376953,  0.05004883, -0.05883789,\n",
       "         0.04614258,  0.08740234,  0.10546875,  0.10644531,  0.0279541 ,\n",
       "         0.09472656,  0.11621094, -0.17285156, -0.03491211, -0.20800781,\n",
       "         0.05957031,  0.10400391, -0.00179291,  0.05859375, -0.02978516,\n",
       "        -0.03759766,  0.04858398, -0.06396484,  0.07958984,  0.06933594,\n",
       "        -0.10498047, -0.14453125,  0.04345703, -0.06884766, -0.03564453,\n",
       "        -0.01171875,  0.01367188, -0.06591797,  0.11914062,  0.03125   ,\n",
       "        -0.04638672, -0.00196838,  0.00735474, -0.05664062,  0.02783203,\n",
       "         0.08251953, -0.01348877,  0.07177734,  0.14453125,  0.12792969,\n",
       "         0.04223633,  0.14160156, -0.01806641,  0.02160645, -0.09179688,\n",
       "         0.13378906, -0.1953125 , -0.05029297, -0.0378418 , -0.09619141,\n",
       "         0.10302734, -0.10693359, -0.14746094,  0.09960938, -0.23046875,\n",
       "         0.22753906, -0.07519531,  0.06494141,  0.09179688,  0.046875  ,\n",
       "         0.06298828,  0.06982422,  0.04614258,  0.09716797, -0.20214844,\n",
       "         0.19921875,  0.18652344, -0.11962891, -0.14257812,  0.15039062,\n",
       "        -0.03369141, -0.14550781, -0.00069046, -0.07324219,  0.13378906,\n",
       "         0.03564453, -0.02294922,  0.02770996, -0.07910156,  0.20703125,\n",
       "        -0.08349609, -0.04956055,  0.03149414,  0.1484375 ,  0.05566406,\n",
       "        -0.04492188, -0.07958984,  0.00476074, -0.02075195,  0.06005859,\n",
       "         0.00476074,  0.01116943,  0.17285156, -0.13476562,  0.03076172,\n",
       "        -0.07958984,  0.09033203,  0.06103516,  0.07714844, -0.05029297,\n",
       "        -0.09228516, -0.26757812,  0.10791016,  0.0859375 ,  0.06298828,\n",
       "         0.10791016, -0.0267334 ,  0.10205078, -0.12060547,  0.05297852,\n",
       "         0.09472656, -0.16503906,  0.04418945,  0.07226562,  0.04125977,\n",
       "         0.42578125, -0.10302734, -0.16015625, -0.09033203, -0.06396484,\n",
       "        -0.0480957 ,  0.14453125,  0.06542969,  0.04931641,  0.05419922,\n",
       "         0.13574219, -0.01928711, -0.21582031, -0.07421875, -0.14648438,\n",
       "         0.01147461, -0.16503906, -0.10498047,  0.00320435,  0.13476562,\n",
       "        -0.00396729, -0.10351562, -0.13964844,  0.10449219, -0.01257324,\n",
       "        -0.23339844, -0.03637695, -0.09375   ,  0.18261719,  0.02709961,\n",
       "         0.12792969, -0.02478027,  0.01123047,  0.1640625 ,  0.10693359],\n",
       "       dtype=float32),\n",
       " array([ 1.78710938e-01,  9.13085938e-02, -1.65557861e-03,  1.77734375e-01,\n",
       "        -1.38671875e-01, -2.08740234e-02, -5.12695312e-02, -5.21850586e-03,\n",
       "        -1.76429749e-04,  1.49414062e-01, -7.76367188e-02, -2.10937500e-01,\n",
       "        -3.85742188e-02,  9.42382812e-02, -2.51953125e-01, -3.51562500e-02,\n",
       "         2.24609375e-02,  1.23046875e-01, -1.73828125e-01, -9.08203125e-02,\n",
       "         8.00781250e-02, -7.12890625e-02,  2.78320312e-02, -1.55273438e-01,\n",
       "         4.19921875e-02,  3.46679688e-02, -1.52343750e-01,  5.49316406e-02,\n",
       "        -9.61914062e-02,  1.22070312e-02, -8.34960938e-02, -2.10571289e-03,\n",
       "         1.01562500e-01, -4.56542969e-02, -5.83496094e-02, -1.40625000e-01,\n",
       "         1.57226562e-01, -1.05957031e-01,  3.71093750e-02,  3.34472656e-02,\n",
       "         2.45117188e-01, -1.26953125e-01,  1.53320312e-01,  1.59179688e-01,\n",
       "        -7.95898438e-02,  3.71093750e-02, -1.02050781e-01,  1.35498047e-02,\n",
       "        -4.17480469e-02, -2.69775391e-02,  1.06933594e-01,  9.08203125e-02,\n",
       "        -2.53906250e-01, -2.44140625e-02, -2.60009766e-02,  1.42822266e-02,\n",
       "         4.90722656e-02, -1.18164062e-01,  1.21093750e-01, -9.71679688e-02,\n",
       "        -8.25195312e-02,  1.56250000e-01, -1.15966797e-02, -3.32031250e-02,\n",
       "        -5.59082031e-02, -8.49609375e-02, -4.37011719e-02,  2.99072266e-02,\n",
       "        -2.22778320e-03,  6.00585938e-02,  1.13525391e-02,  1.15234375e-01,\n",
       "         1.01562500e-01,  1.54418945e-02, -1.30859375e-01,  1.08886719e-01,\n",
       "         5.22460938e-02,  1.23046875e-01, -9.61914062e-02,  6.34765625e-02,\n",
       "         9.86328125e-02, -3.34472656e-02,  3.22265625e-02, -6.73828125e-02,\n",
       "        -1.04980469e-01, -6.59179688e-02,  3.56445312e-02,  6.54296875e-02,\n",
       "        -1.13769531e-01, -1.09252930e-02,  1.81640625e-01,  1.64062500e-01,\n",
       "        -1.54418945e-02,  2.81982422e-02,  1.58691406e-02,  8.39843750e-02,\n",
       "         1.57165527e-03,  1.78710938e-01,  6.82830811e-04,  8.83789062e-02,\n",
       "         2.13623047e-02,  7.62939453e-03,  1.19628906e-02,  5.22460938e-02,\n",
       "        -8.97216797e-03, -4.76074219e-02,  2.31933594e-02, -4.10156250e-02,\n",
       "         2.40234375e-01, -1.91406250e-01, -2.06054688e-01,  4.78515625e-02,\n",
       "         9.57031250e-02,  6.93359375e-02, -2.34375000e-02, -9.76562500e-02,\n",
       "         1.06445312e-01,  4.15039062e-02,  1.04003906e-01,  7.42187500e-02,\n",
       "        -6.20117188e-02,  5.98144531e-02, -1.39648438e-01, -3.12500000e-02,\n",
       "         3.41796875e-02, -9.76562500e-02, -1.37695312e-01, -1.23535156e-01,\n",
       "        -1.05957031e-01,  5.32226562e-02, -1.45263672e-02, -1.87500000e-01,\n",
       "        -9.91210938e-02, -1.58203125e-01,  5.93261719e-02, -6.25000000e-02,\n",
       "         9.81445312e-02,  1.22070312e-01,  2.24609375e-02, -1.11083984e-02,\n",
       "        -5.46875000e-02, -1.83593750e-01,  1.22558594e-01, -3.72314453e-03,\n",
       "         1.87500000e-01,  4.27246094e-02, -4.00390625e-02, -4.95605469e-02,\n",
       "        -2.17773438e-01,  6.73828125e-02,  1.12915039e-02,  5.79833984e-03,\n",
       "        -1.92382812e-01,  9.81445312e-02, -7.47070312e-02, -1.08886719e-01,\n",
       "        -3.03649902e-03,  6.71386719e-03, -1.14746094e-01,  2.08984375e-01,\n",
       "        -6.28662109e-03,  1.23901367e-02, -1.05468750e-01, -3.46679688e-02,\n",
       "         1.02050781e-01, -3.56445312e-02,  5.73730469e-02,  4.88281250e-02,\n",
       "         1.19628906e-01, -1.16699219e-01, -1.75781250e-01,  1.15234375e-01,\n",
       "        -5.93261719e-02, -1.73828125e-01,  4.58984375e-02, -1.66992188e-01,\n",
       "        -1.28906250e-01, -8.93554688e-02,  1.72119141e-02,  6.34765625e-02,\n",
       "        -1.00097656e-01,  2.38037109e-02,  3.76892090e-03,  5.49316406e-02,\n",
       "        -7.91015625e-02, -5.52368164e-03, -8.74023438e-02, -7.56835938e-02,\n",
       "         1.85546875e-02, -4.68750000e-02, -1.56250000e-02,  3.17382812e-02,\n",
       "         1.09375000e-01, -2.22656250e-01, -1.29882812e-01, -1.06933594e-01,\n",
       "        -9.52148438e-02, -1.01074219e-01, -5.15136719e-02, -1.66992188e-01,\n",
       "         5.68847656e-02,  1.11328125e-01, -2.28271484e-02, -1.69677734e-02,\n",
       "         6.21795654e-04,  3.67736816e-03, -1.31835938e-01,  3.09753418e-03,\n",
       "         6.29882812e-02,  2.20703125e-01, -6.37817383e-03, -1.02539062e-01,\n",
       "         1.37329102e-02,  5.05371094e-02,  3.14941406e-02, -2.28271484e-02,\n",
       "         8.39843750e-02,  1.05468750e-01, -1.49414062e-01, -1.32812500e-01,\n",
       "        -5.10253906e-02, -1.04492188e-01, -1.19628906e-01, -8.00781250e-02,\n",
       "         7.86132812e-02, -4.58984375e-02, -5.32226562e-02,  8.88671875e-02,\n",
       "        -1.01074219e-01,  1.84570312e-01,  4.93164062e-02, -5.44433594e-02,\n",
       "         1.01562500e-01,  8.69140625e-02,  1.19140625e-01,  4.85839844e-02,\n",
       "         4.85839844e-02, -1.83593750e-01,  3.11279297e-03,  9.17968750e-02,\n",
       "         8.20312500e-02,  2.58789062e-02,  1.17675781e-01, -1.59179688e-01,\n",
       "         1.04980469e-01,  4.66308594e-02,  7.27539062e-02,  1.66015625e-02,\n",
       "        -1.05957031e-01,  1.75781250e-02, -5.00488281e-02,  2.05078125e-01,\n",
       "        -1.40380859e-02, -4.24194336e-03,  2.97851562e-02,  1.29394531e-02,\n",
       "         1.93359375e-01,  1.97265625e-01, -1.35742188e-01, -1.29882812e-01,\n",
       "         4.29687500e-02, -9.86328125e-02, -1.69921875e-01,  7.51953125e-02,\n",
       "         1.32446289e-02,  1.11083984e-02, -1.17187500e-01, -9.94873047e-03,\n",
       "        -8.05664062e-02, -9.03320312e-03,  9.57031250e-02,  1.95312500e-01,\n",
       "         1.48437500e-01,  6.00585938e-02,  1.15722656e-01,  7.69042969e-03,\n",
       "        -2.36816406e-02, -1.58203125e-01, -1.44531250e-01, -4.37011719e-02,\n",
       "         5.41992188e-02, -2.62451172e-02,  1.56250000e-01, -1.36718750e-02,\n",
       "        -4.56542969e-02, -5.49316406e-02, -8.69140625e-02, -1.19628906e-02,\n",
       "        -3.66210938e-02,  3.93066406e-02, -7.76367188e-02,  8.11767578e-03,\n",
       "        -2.96630859e-02, -8.98437500e-02, -1.42578125e-01,  1.61132812e-02,\n",
       "         7.17773438e-02,  1.25000000e-01,  8.05664062e-02,  1.67236328e-02],\n",
       "       dtype=float32),\n",
       " array([ 0.27929688, -0.08447266, -0.04150391,  0.12011719, -0.01794434,\n",
       "         0.12353516,  0.1328125 , -0.08251953,  0.11572266,  0.10693359,\n",
       "        -0.08056641, -0.01397705, -0.13671875,  0.11230469, -0.0546875 ,\n",
       "         0.109375  ,  0.12060547,  0.06396484, -0.02001953, -0.41992188,\n",
       "         0.18652344,  0.14550781, -0.08837891, -0.23828125, -0.21386719,\n",
       "        -0.24902344, -0.06884766,  0.10693359,  0.20996094,  0.04589844,\n",
       "        -0.15527344, -0.29882812, -0.11376953, -0.02416992,  0.01477051,\n",
       "         0.01489258, -0.06835938,  0.33203125, -0.10888672, -0.14160156,\n",
       "         0.05639648,  0.05078125,  0.19921875,  0.40820312,  0.04833984,\n",
       "         0.07714844,  0.06689453, -0.171875  , -0.28515625, -0.203125  ,\n",
       "        -0.2109375 , -0.18164062,  0.03369141, -0.21777344,  0.25976562,\n",
       "         0.15234375,  0.13964844, -0.22167969, -0.1484375 ,  0.03808594,\n",
       "         0.02990723, -0.10644531, -0.10595703,  0.11181641, -0.02770996,\n",
       "         0.19726562, -0.28320312,  0.08886719,  0.06347656,  0.21386719,\n",
       "         0.16308594,  0.08300781, -0.03088379,  0.09716797,  0.10253906,\n",
       "        -0.17089844,  0.22265625,  0.38085938,  0.23535156, -0.10839844,\n",
       "         0.08642578,  0.06494141,  0.21972656,  0.02978516,  0.359375  ,\n",
       "         0.00282288,  0.03564453, -0.15332031,  0.07666016,  0.13378906,\n",
       "        -0.03369141, -0.10839844, -0.01031494, -0.22070312, -0.05810547,\n",
       "        -0.078125  , -0.09570312, -0.03613281,  0.14160156,  0.17578125,\n",
       "        -0.19433594,  0.06152344, -0.08300781,  0.05273438,  0.06982422,\n",
       "         0.32226562,  0.02722168, -0.01245117, -0.08300781,  0.19824219,\n",
       "        -0.08544922,  0.14550781,  0.04541016, -0.10400391,  0.34570312,\n",
       "         0.02416992,  0.12158203, -0.25585938,  0.28710938,  0.17675781,\n",
       "         0.10791016, -0.23144531, -0.34179688,  0.20605469,  0.09814453,\n",
       "        -0.17089844, -0.31640625, -0.10253906, -0.14648438,  0.10839844,\n",
       "        -0.296875  , -0.11474609, -0.11767578,  0.00897217,  0.05151367,\n",
       "         0.05200195, -0.05322266,  0.10449219,  0.16015625, -0.2578125 ,\n",
       "         0.15527344, -0.33789062, -0.02099609, -0.18066406,  0.06982422,\n",
       "        -0.08447266,  0.02819824,  0.12695312, -0.08642578, -0.06396484,\n",
       "         0.23339844,  0.1875    ,  0.05175781, -0.03564453,  0.27734375,\n",
       "        -0.48046875, -0.22363281,  0.125     , -0.23535156,  0.0625    ,\n",
       "        -0.11132812,  0.41796875,  0.17285156, -0.01159668,  0.125     ,\n",
       "        -0.06176758,  0.03637695, -0.1875    , -0.30078125, -0.14746094,\n",
       "        -0.03088379,  0.11035156, -0.22558594, -0.16601562,  0.11425781,\n",
       "        -0.23632812,  0.02148438, -0.12988281, -0.23242188, -0.16992188,\n",
       "        -0.22558594, -0.2734375 ,  0.00686646,  0.04370117,  0.203125  ,\n",
       "         0.06640625, -0.20605469,  0.25585938,  0.01251221,  0.11279297,\n",
       "         0.06738281,  0.02929688, -0.19140625, -0.17480469, -0.00854492,\n",
       "         0.28710938,  0.11621094, -0.4921875 ,  0.08398438,  0.03491211,\n",
       "        -0.06835938, -0.12695312, -0.2109375 , -0.03637695, -0.02185059,\n",
       "         0.06933594,  0.0859375 , -0.06542969,  0.02160645, -0.0378418 ,\n",
       "         0.17773438,  0.00854492,  0.08007812, -0.12597656, -0.12011719,\n",
       "         0.04492188,  0.03320312, -0.05249023, -0.11523438,  0.0189209 ,\n",
       "        -0.21777344,  0.15234375,  0.05981445, -0.28515625,  0.06347656,\n",
       "         0.08154297, -0.10449219,  0.12060547,  0.0390625 ,  0.17285156,\n",
       "         0.11132812, -0.17285156, -0.04272461, -0.02478027,  0.04614258,\n",
       "        -0.16992188,  0.03320312,  0.08886719,  0.24707031, -0.00491333,\n",
       "         0.02819824,  0.05859375,  0.00193787, -0.05126953,  0.328125  ,\n",
       "         0.13671875,  0.10644531,  0.39648438, -0.22851562,  0.234375  ,\n",
       "         0.08642578,  0.16699219, -0.24121094,  0.06933594, -0.03295898,\n",
       "        -0.44335938,  0.06884766, -0.34375   , -0.03491211, -0.02880859,\n",
       "         0.17578125,  0.06591797, -0.03015137, -0.171875  , -0.04858398,\n",
       "         0.08837891,  0.296875  , -0.30859375, -0.13574219, -0.44921875,\n",
       "         0.0177002 ,  0.234375  , -0.03320312,  0.09228516,  0.05712891,\n",
       "        -0.04760742,  0.06445312, -0.03320312, -0.09228516,  0.18554688,\n",
       "        -0.0703125 ,  0.23632812, -0.18164062,  0.21386719,  0.28515625,\n",
       "         0.02648926,  0.09814453,  0.11767578,  0.04663086,  0.2734375 ,\n",
       "        -0.04394531, -0.07666016,  0.01269531, -0.23046875,  0.04077148,\n",
       "        -0.06835938,  0.11767578, -0.22070312,  0.00878906, -0.00051498],\n",
       "       dtype=float32),\n",
       " array([ 0.07910156, -0.0050354 ,  0.11181641,  0.21289062,  0.13085938,\n",
       "        -0.01470947, -0.03540039, -0.07763672,  0.04077148,  0.11474609,\n",
       "         0.00147247, -0.29101562,  0.00457764, -0.20019531, -0.19238281,\n",
       "         0.08007812,  0.10107422,  0.04858398,  0.15722656, -0.09521484,\n",
       "        -0.05004883,  0.25      ,  0.33007812, -0.09716797, -0.05566406,\n",
       "        -0.0071106 , -0.16796875, -0.13574219,  0.05102539, -0.00598145,\n",
       "         0.10791016,  0.16503906, -0.03955078, -0.03955078,  0.04321289,\n",
       "         0.12060547,  0.13476562,  0.09375   ,  0.00909424,  0.1640625 ,\n",
       "         0.21289062, -0.05322266,  0.33398438,  0.01586914,  0.10449219,\n",
       "         0.24121094, -0.0189209 , -0.04199219,  0.05834961,  0.03271484,\n",
       "         0.09863281,  0.18945312,  0.04125977,  0.01501465, -0.05883789,\n",
       "         0.10253906,  0.01538086,  0.03198242,  0.02722168, -0.13769531,\n",
       "         0.12695312,  0.06396484, -0.13574219, -0.012146  ,  0.07617188,\n",
       "        -0.02319336, -0.21191406,  0.20996094, -0.01953125,  0.02038574,\n",
       "         0.16113281, -0.00897217,  0.04663086,  0.03881836, -0.4609375 ,\n",
       "        -0.1796875 ,  0.12792969, -0.00564575,  0.24121094,  0.21777344,\n",
       "        -0.02600098, -0.1171875 ,  0.19140625, -0.04052734, -0.18261719,\n",
       "        -0.09619141, -0.05053711,  0.27734375,  0.00086975,  0.06298828,\n",
       "        -0.13085938,  0.1328125 , -0.06640625,  0.03491211, -0.26953125,\n",
       "         0.0267334 ,  0.11816406,  0.1328125 , -0.02490234, -0.17480469,\n",
       "        -0.234375  , -0.0703125 ,  0.09179688,  0.03198242, -0.10791016,\n",
       "         0.13671875, -0.11523438,  0.00732422,  0.04223633, -0.25585938,\n",
       "        -0.27734375, -0.10644531,  0.02612305,  0.09082031,  0.14355469,\n",
       "        -0.19335938, -0.07421875, -0.20898438,  0.21289062, -0.17382812,\n",
       "        -0.04980469, -0.10839844, -0.02038574,  0.22949219, -0.09570312,\n",
       "        -0.06103516, -0.10693359,  0.03369141,  0.01879883,  0.05029297,\n",
       "        -0.36132812, -0.24511719, -0.34765625, -0.04394531, -0.18261719,\n",
       "        -0.14453125, -0.06152344,  0.21386719,  0.09667969,  0.1796875 ,\n",
       "        -0.02160645,  0.03100586,  0.0703125 , -0.07275391,  0.07226562,\n",
       "         0.10644531, -0.25      , -0.20800781, -0.0378418 , -0.01446533,\n",
       "         0.171875  ,  0.17578125, -0.33789062,  0.05517578, -0.01965332,\n",
       "         0.13378906, -0.01647949, -0.04541016, -0.16796875,  0.08544922,\n",
       "         0.09960938, -0.02001953, -0.06347656,  0.32421875, -0.02404785,\n",
       "        -0.22949219,  0.09960938,  0.08886719,  0.13769531, -0.05517578,\n",
       "        -0.2109375 ,  0.1875    , -0.03833008, -0.16796875, -0.11132812,\n",
       "         0.05249023,  0.1875    , -0.15136719,  0.07275391, -0.01953125,\n",
       "        -0.06933594,  0.16894531,  0.1171875 ,  0.10351562,  0.02905273,\n",
       "         0.0546875 , -0.2578125 ,  0.1171875 ,  0.0703125 , -0.04711914,\n",
       "        -0.03710938,  0.16503906, -0.01159668, -0.04638672,  0.11621094,\n",
       "         0.09521484, -0.09130859,  0.01916504, -0.08886719, -0.20507812,\n",
       "        -0.13183594,  0.12060547,  0.04980469,  0.09863281,  0.02819824,\n",
       "         0.046875  , -0.18554688, -0.06347656,  0.07519531,  0.11767578,\n",
       "         0.08154297,  0.0144043 , -0.11132812,  0.00939941, -0.23828125,\n",
       "        -0.1796875 ,  0.265625  ,  0.04174805, -0.0859375 , -0.06298828,\n",
       "        -0.1953125 ,  0.03588867, -0.03295898,  0.04174805,  0.23339844,\n",
       "        -0.3515625 ,  0.16503906, -0.0625    , -0.15136719, -0.10009766,\n",
       "         0.03979492, -0.01342773,  0.0123291 , -0.00939941,  0.12109375,\n",
       "         0.06738281, -0.18457031,  0.15917969,  0.12109375, -0.1171875 ,\n",
       "         0.00302124,  0.11425781,  0.11767578, -0.07666016, -0.16503906,\n",
       "        -0.09570312, -0.09277344,  0.12792969, -0.09375   ,  0.04223633,\n",
       "         0.21679688, -0.0859375 , -0.05883789,  0.16015625,  0.03710938,\n",
       "         0.01708984,  0.00326538, -0.13183594, -0.17480469, -0.27539062,\n",
       "        -0.03417969, -0.10546875,  0.07226562, -0.05541992,  0.09228516,\n",
       "         0.18164062,  0.04003906,  0.07275391, -0.14355469,  0.13378906,\n",
       "        -0.05371094,  0.15234375,  0.265625  ,  0.24609375, -0.05419922,\n",
       "        -0.07177734, -0.08496094, -0.25585938, -0.08300781, -0.03271484,\n",
       "         0.08203125,  0.00077057,  0.0480957 ,  0.17089844,  0.13964844,\n",
       "         0.03588867, -0.06542969, -0.2734375 , -0.22753906,  0.09570312,\n",
       "        -0.12597656,  0.15332031, -0.30664062, -0.07861328, -0.08642578,\n",
       "        -0.11474609, -0.02929688, -0.0067749 ,  0.04272461, -0.10351562],\n",
       "       dtype=float32),\n",
       " array([-1.66992188e-01, -6.64062500e-02,  5.73730469e-02, -5.95703125e-02,\n",
       "        -2.32696533e-04,  7.47070312e-02, -2.51464844e-02,  8.48388672e-03,\n",
       "         1.63085938e-01,  6.93359375e-02, -1.42211914e-02,  5.46875000e-02,\n",
       "         1.93359375e-01, -1.59179688e-01, -5.05371094e-02,  8.25195312e-02,\n",
       "        -1.08398438e-01,  3.55468750e-01,  3.71093750e-01, -3.68652344e-02,\n",
       "        -1.99218750e-01, -4.00390625e-02,  1.75781250e-01, -1.36718750e-02,\n",
       "        -6.98242188e-02,  1.04980469e-01, -1.12792969e-01, -3.36914062e-02,\n",
       "         3.00781250e-01, -1.30859375e-01,  2.21679688e-01, -2.34375000e-01,\n",
       "        -2.53906250e-01, -2.91015625e-01,  2.03125000e-01,  2.91015625e-01,\n",
       "         3.29589844e-02, -2.16064453e-02, -1.80664062e-01,  6.17675781e-02,\n",
       "         2.61718750e-01, -8.15429688e-02,  2.08007812e-01,  2.81982422e-02,\n",
       "         1.17675781e-01,  9.81445312e-02, -1.81640625e-01,  2.37304688e-01,\n",
       "        -1.23046875e-01, -1.44531250e-01,  1.52343750e-01,  1.33789062e-01,\n",
       "         5.59082031e-02,  1.33789062e-01,  1.96289062e-01,  9.71679688e-02,\n",
       "         8.25195312e-02, -1.58203125e-01, -1.32812500e-01, -6.22558594e-02,\n",
       "         7.71484375e-02,  1.80664062e-01, -9.13085938e-02, -6.34765625e-02,\n",
       "         2.22656250e-01, -2.35351562e-01, -4.66308594e-02,  4.72656250e-01,\n",
       "        -1.02996826e-03,  9.27734375e-02,  2.04101562e-01,  1.70898438e-01,\n",
       "         9.42382812e-02,  3.54003906e-02, -6.93359375e-02, -6.22558594e-02,\n",
       "         1.83105469e-02, -3.98437500e-01,  2.41210938e-01,  3.10546875e-01,\n",
       "         1.29882812e-01, -1.90429688e-02,  3.92578125e-01, -8.05664062e-02,\n",
       "        -9.66796875e-02,  3.36914062e-02, -6.98242188e-02,  7.95898438e-02,\n",
       "         1.44531250e-01,  1.63085938e-01, -1.88476562e-01, -1.22558594e-01,\n",
       "         2.92968750e-01, -6.68945312e-02, -1.58203125e-01, -3.17382812e-02,\n",
       "        -7.87353516e-03, -1.14746094e-01,  1.70898438e-01,  6.44531250e-02,\n",
       "        -8.93554688e-02, -1.06445312e-01, -1.24511719e-01,  1.43554688e-01,\n",
       "         8.00781250e-02, -1.90734863e-03,  2.06054688e-01, -1.10351562e-01,\n",
       "         7.76367188e-02, -3.20312500e-01,  1.14257812e-01, -8.88671875e-02,\n",
       "         2.08007812e-01,  2.99072266e-02, -6.73828125e-02,  1.57470703e-02,\n",
       "         7.17163086e-03, -2.79296875e-01,  3.43750000e-01,  1.73339844e-02,\n",
       "         2.30468750e-01, -5.20019531e-02, -3.19824219e-02,  3.02734375e-01,\n",
       "        -2.30712891e-02,  1.31835938e-01, -5.29785156e-02,  2.00195312e-01,\n",
       "         9.81445312e-02,  6.05468750e-02, -3.76953125e-01, -1.20605469e-01,\n",
       "        -3.80859375e-02, -1.26953125e-01, -1.78710938e-01, -1.10839844e-01,\n",
       "         1.23535156e-01, -1.08886719e-01,  2.20703125e-01,  2.00195312e-01,\n",
       "        -1.04492188e-01,  3.76953125e-01,  1.73828125e-01, -2.65625000e-01,\n",
       "        -3.90625000e-01,  1.84570312e-01,  1.18652344e-01, -3.16406250e-01,\n",
       "        -3.21960449e-03, -5.90820312e-02, -3.97949219e-02,  1.12792969e-01,\n",
       "        -5.41992188e-02,  1.35742188e-01, -4.80957031e-02, -3.79943848e-03,\n",
       "         5.71289062e-02,  9.76562500e-03, -3.02734375e-01,  2.28271484e-02,\n",
       "         3.97949219e-02, -1.45507812e-01, -7.03125000e-02, -6.98242188e-02,\n",
       "        -9.46044922e-03, -7.32421875e-02,  8.00781250e-02,  2.31445312e-01,\n",
       "         3.04687500e-01,  1.33789062e-01, -3.08593750e-01, -1.22070312e-01,\n",
       "         1.30859375e-01, -8.36181641e-03, -1.78710938e-01, -1.52343750e-01,\n",
       "         1.41601562e-01,  6.59179688e-02,  7.86132812e-02, -1.19140625e-01,\n",
       "        -1.29882812e-01,  3.00292969e-02,  4.71191406e-02,  6.44531250e-02,\n",
       "        -1.97265625e-01,  4.46777344e-02, -6.64062500e-02,  1.66015625e-01,\n",
       "         2.39257812e-01, -2.05078125e-01, -1.08886719e-01,  1.52343750e-01,\n",
       "        -1.07421875e-01, -9.65118408e-04,  9.76562500e-03,  1.07910156e-01,\n",
       "        -1.04492188e-01, -7.27539062e-02, -1.91406250e-01, -1.11816406e-01,\n",
       "        -2.53906250e-01, -9.91210938e-02, -1.47460938e-01, -1.36718750e-01,\n",
       "        -3.02734375e-01,  4.12597656e-02, -1.45507812e-01,  1.80664062e-01,\n",
       "         1.83593750e-01,  1.61132812e-01, -3.90625000e-02, -1.46484375e-01,\n",
       "         1.29394531e-02, -2.30712891e-02, -2.92968750e-01,  8.88671875e-02,\n",
       "         9.32617188e-02,  6.86645508e-03, -3.00781250e-01, -2.19726562e-01,\n",
       "         1.03515625e-01, -1.87500000e-01, -5.76171875e-02, -2.41699219e-02,\n",
       "         1.85546875e-01, -3.22265625e-01,  8.93554688e-02,  5.39550781e-02,\n",
       "        -3.78417969e-02, -1.01074219e-01,  2.49023438e-01, -6.78710938e-02,\n",
       "        -4.19921875e-01,  1.48925781e-02,  6.64062500e-02, -1.33666992e-02,\n",
       "         1.08032227e-02,  1.63085938e-01,  6.07910156e-02, -3.90625000e-02,\n",
       "         1.87500000e-01,  2.04101562e-01,  2.92968750e-02, -3.36914062e-02,\n",
       "        -3.28125000e-01, -8.25195312e-02, -4.27246094e-02, -7.08007812e-02,\n",
       "        -2.09960938e-01, -3.17382812e-02,  1.93359375e-01, -6.78710938e-02,\n",
       "         9.71679688e-02,  8.10546875e-02,  2.30468750e-01, -3.99780273e-03,\n",
       "         2.57812500e-01,  2.84423828e-02, -1.87500000e-01, -6.93359375e-02,\n",
       "         8.93554688e-02, -2.16796875e-01,  1.67968750e-01, -8.49609375e-02,\n",
       "        -1.59912109e-02,  4.27734375e-01, -9.58251953e-03,  2.99072266e-02,\n",
       "        -1.11816406e-01,  1.06445312e-01,  8.93554688e-02,  3.32031250e-02,\n",
       "         5.61523438e-02,  7.71484375e-02, -1.86767578e-02,  2.74658203e-02,\n",
       "        -1.75781250e-02, -2.47070312e-01, -1.04980469e-01, -4.29687500e-02,\n",
       "        -1.54418945e-02,  7.42187500e-02, -1.38671875e-01, -1.24023438e-01,\n",
       "         1.18652344e-01, -6.29882812e-02, -4.05273438e-02, -1.42578125e-01,\n",
       "        -4.46777344e-02,  2.23632812e-01,  1.19140625e-01,  1.26953125e-01,\n",
       "        -1.29882812e-01, -9.03320312e-03, -6.88476562e-02, -2.40478516e-02,\n",
       "        -1.80664062e-01, -5.41992188e-02,  1.17187500e-01,  8.39843750e-02],\n",
       "       dtype=float32),\n",
       " array([-0.09033203,  0.04394531,  0.11621094,  0.05737305, -0.00469971,\n",
       "         0.10058594, -0.06445312, -0.00738525, -0.22460938,  0.14550781,\n",
       "        -0.05175781, -0.1328125 , -0.22167969,  0.09667969,  0.01782227,\n",
       "        -0.15332031, -0.11816406, -0.04663086,  0.09667969, -0.17773438,\n",
       "        -0.21289062, -0.09716797, -0.07470703,  0.14941406,  0.13964844,\n",
       "        -0.19335938,  0.11035156, -0.18457031, -0.02575684, -0.08251953,\n",
       "        -0.02893066, -0.02832031, -0.07666016,  0.09863281, -0.23632812,\n",
       "         0.08300781, -0.09814453, -0.0625    ,  0.20703125, -0.05102539,\n",
       "         0.09912109, -0.00311279,  0.24707031,  0.0625    ,  0.03149414,\n",
       "        -0.546875  , -0.296875  ,  0.234375  , -0.37304688,  0.24511719,\n",
       "         0.07128906, -0.38476562,  0.23535156, -0.23925781, -0.17578125,\n",
       "         0.23730469, -0.00125885, -0.09863281,  0.15039062, -0.08349609,\n",
       "         0.10351562,  0.12597656, -0.46875   , -0.11181641, -0.03417969,\n",
       "         0.06982422, -0.01940918,  0.18164062,  0.22265625, -0.20214844,\n",
       "         0.12890625, -0.13378906,  0.09472656,  0.04785156, -0.25390625,\n",
       "        -0.30078125,  0.10253906, -0.11279297,  0.04394531,  0.00442505,\n",
       "        -0.03442383, -0.06787109,  0.05078125,  0.01068115,  0.4140625 ,\n",
       "        -0.05322266, -0.3203125 ,  0.29296875,  0.0112915 , -0.16601562,\n",
       "         0.37695312,  0.16210938,  0.20214844, -0.00299072, -0.14648438,\n",
       "         0.12304688, -0.04101562, -0.10742188,  0.3203125 , -0.09570312,\n",
       "         0.11914062, -0.29296875, -0.06542969, -0.1328125 ,  0.01708984,\n",
       "        -0.0324707 ,  0.09619141, -0.16699219,  0.24414062, -0.03662109,\n",
       "        -0.16992188, -0.12158203,  0.09277344,  0.29492188, -0.06298828,\n",
       "         0.38085938, -0.06689453,  0.27734375,  0.359375  , -0.01916504,\n",
       "         0.04589844, -0.00939941,  0.06835938,  0.04833984, -0.10400391,\n",
       "        -0.13867188, -0.31445312,  0.45898438,  0.00497437, -0.00964355,\n",
       "        -0.02575684,  0.05004883, -0.01416016, -0.08154297, -0.24804688,\n",
       "        -0.15722656,  0.10791016, -0.16015625,  0.10400391, -0.08447266,\n",
       "         0.03710938, -0.55859375, -0.171875  ,  0.21777344, -0.14453125,\n",
       "         0.04980469,  0.08300781,  0.12890625, -0.2421875 , -0.14453125,\n",
       "         0.16894531,  0.07421875,  0.03735352,  0.10058594, -0.296875  ,\n",
       "        -0.17285156, -0.02246094,  0.20898438,  0.02307129,  0.10839844,\n",
       "        -0.43945312, -0.00418091, -0.13671875,  0.05712891,  0.18261719,\n",
       "         0.20996094,  0.06176758, -0.24023438, -0.12597656, -0.04638672,\n",
       "        -0.06933594, -0.04736328,  0.03466797,  0.13769531,  0.07324219,\n",
       "        -0.10498047,  0.01104736, -0.08251953, -0.07373047,  0.06787109,\n",
       "        -0.06079102, -0.07666016,  0.07910156, -0.21191406, -0.00296021,\n",
       "        -0.02416992, -0.19238281, -0.00439453, -0.31835938,  0.25      ,\n",
       "        -0.30859375, -0.18261719, -0.09326172, -0.06933594, -0.11328125,\n",
       "         0.19726562,  0.01416016, -0.390625  ,  0.0402832 , -0.25390625,\n",
       "         0.02648926, -0.00087738, -0.0378418 ,  0.16113281,  0.03393555,\n",
       "         0.03613281,  0.11914062,  0.296875  ,  0.3359375 , -0.07177734,\n",
       "         0.22851562, -0.22949219,  0.13671875,  0.18652344,  0.0703125 ,\n",
       "         0.10498047,  0.08935547,  0.18359375, -0.11816406, -0.03295898,\n",
       "        -0.10595703,  0.1640625 ,  0.13085938, -0.12695312, -0.14257812,\n",
       "        -0.17675781, -0.53515625,  0.09326172, -0.15332031,  0.15527344,\n",
       "        -0.04272461, -0.18359375,  0.09423828,  0.15332031, -0.3671875 ,\n",
       "        -0.12011719, -0.10595703,  0.02709961, -0.17871094, -0.00340271,\n",
       "         0.08837891, -0.06787109, -0.15332031, -0.03344727,  0.06933594,\n",
       "        -0.34960938, -0.06494141,  0.23242188,  0.12255859, -0.3125    ,\n",
       "         0.13671875, -0.10595703,  0.04052734, -0.11523438, -0.11767578,\n",
       "        -0.10107422,  0.06054688, -0.11376953, -0.07666016, -0.11279297,\n",
       "         0.19433594, -0.5       , -0.00549316, -0.06079102, -0.00346375,\n",
       "        -0.35351562,  0.14941406, -0.08740234, -0.22167969,  0.09960938,\n",
       "        -0.00982666,  0.02844238,  0.19042969, -0.33007812, -0.04003906,\n",
       "        -0.15332031, -0.04345703, -0.10107422, -0.15820312,  0.10205078,\n",
       "        -0.203125  , -0.0300293 ,  0.34765625,  0.25195312, -0.29882812,\n",
       "         0.05053711, -0.09179688, -0.04052734,  0.06347656,  0.21386719,\n",
       "        -0.18652344, -0.11376953,  0.06030273,  0.42578125,  0.04614258,\n",
       "         0.21875   , -0.07226562, -0.3359375 , -0.15234375,  0.00254822],\n",
       "       dtype=float32),\n",
       " array([-0.02490234,  0.02197266, -0.03540039,  0.13671875,  0.01635742,\n",
       "        -0.0279541 , -0.02429199, -0.13964844,  0.05737305,  0.06225586,\n",
       "        -0.11767578, -0.09716797, -0.17480469, -0.02062988, -0.11914062,\n",
       "         0.09912109,  0.06030273,  0.140625  , -0.06298828, -0.04882812,\n",
       "        -0.04541016,  0.03417969,  0.0112915 , -0.04516602,  0.1953125 ,\n",
       "        -0.03833008, -0.13183594,  0.06347656, -0.01879883,  0.1328125 ,\n",
       "         0.05712891,  0.0222168 , -0.046875  ,  0.09082031, -0.17578125,\n",
       "         0.0246582 , -0.04858398,  0.00552368,  0.05493164,  0.01202393,\n",
       "         0.12060547,  0.02978516, -0.15917969,  0.09472656, -0.05444336,\n",
       "         0.01068115,  0.11328125, -0.04052734,  0.24121094,  0.12792969,\n",
       "        -0.01501465,  0.04492188, -0.12792969, -0.09130859,  0.13964844,\n",
       "         0.15429688, -0.08154297,  0.01647949,  0.03808594, -0.14160156,\n",
       "         0.00579834,  0.06835938, -0.16992188, -0.10400391, -0.09667969,\n",
       "         0.10595703, -0.0255127 ,  0.06079102, -0.14160156,  0.17871094,\n",
       "         0.09375   ,  0.13574219, -0.02294922,  0.05908203,  0.05102539,\n",
       "        -0.15625   ,  0.140625  ,  0.24414062,  0.0534668 ,  0.19433594,\n",
       "         0.04223633, -0.12451172, -0.00772095, -0.03857422,  0.12207031,\n",
       "        -0.1796875 , -0.25585938, -0.01977539, -0.07373047,  0.15039062,\n",
       "        -0.01257324,  0.06933594, -0.01416016, -0.04541016, -0.08007812,\n",
       "        -0.09765625,  0.0559082 ,  0.01831055, -0.09375   ,  0.16503906,\n",
       "         0.06494141, -0.20800781, -0.140625  ,  0.02368164,  0.02026367,\n",
       "         0.06005859,  0.07470703, -0.03686523,  0.02648926, -0.00248718,\n",
       "         0.00372314,  0.07666016, -0.04663086, -0.08105469, -0.03564453,\n",
       "         0.19921875,  0.15332031,  0.07421875,  0.03979492,  0.06347656,\n",
       "        -0.10644531, -0.0390625 , -0.11132812, -0.02160645, -0.05541992,\n",
       "        -0.09033203, -0.00393677, -0.11376953,  0.12402344,  0.12255859,\n",
       "         0.0546875 , -0.07275391, -0.17871094,  0.07128906, -0.06689453,\n",
       "         0.03063965, -0.00775146,  0.0390625 ,  0.04321289, -0.05200195,\n",
       "        -0.02478027,  0.20410156, -0.06787109,  0.03637695,  0.06591797,\n",
       "         0.03100586,  0.00848389, -0.1953125 , -0.0025177 ,  0.18457031,\n",
       "         0.14355469,  0.08056641, -0.01226807,  0.07080078, -0.03112793,\n",
       "        -0.02124023, -0.12695312, -0.18457031,  0.0246582 ,  0.08691406,\n",
       "        -0.00482178,  0.109375  , -0.0559082 ,  0.19628906,  0.05712891,\n",
       "         0.10595703,  0.07861328, -0.09423828, -0.08886719, -0.078125  ,\n",
       "        -0.18945312,  0.00628662,  0.01159668, -0.05834961, -0.11962891,\n",
       "        -0.09667969, -0.00631714,  0.07470703, -0.07910156,  0.10546875,\n",
       "         0.03112793, -0.01483154,  0.06884766,  0.03295898, -0.12304688,\n",
       "        -0.05371094, -0.00915527, -0.05712891,  0.06982422, -0.06445312,\n",
       "        -0.00121307, -0.05004883, -0.06152344, -0.06103516, -0.00610352,\n",
       "        -0.01281738, -0.13378906,  0.00772095, -0.14257812, -0.18164062,\n",
       "         0.03491211,  0.06347656, -0.03198242, -0.09375   ,  0.03088379,\n",
       "        -0.06738281, -0.04711914, -0.04833984,  0.11669922,  0.01361084,\n",
       "        -0.02905273, -0.11962891,  0.03808594,  0.09326172, -0.00537109,\n",
       "         0.00257874,  0.04394531,  0.19921875, -0.14453125,  0.01147461,\n",
       "         0.00241089,  0.10107422,  0.08447266,  0.00952148, -0.0534668 ,\n",
       "        -0.01953125, -0.03930664, -0.05566406,  0.18554688,  0.01696777,\n",
       "         0.09326172, -0.04833984,  0.02539062,  0.0234375 , -0.02990723,\n",
       "        -0.04052734,  0.0088501 ,  0.09228516,  0.02429199,  0.02416992,\n",
       "        -0.16113281,  0.15820312,  0.03295898, -0.06176758,  0.07617188,\n",
       "         0.08886719,  0.20117188,  0.07080078, -0.07910156,  0.0559082 ,\n",
       "         0.00436401,  0.01489258,  0.17675781, -0.00765991, -0.02880859,\n",
       "        -0.06689453,  0.08154297, -0.01074219, -0.08349609,  0.10595703,\n",
       "         0.03881836,  0.03833008, -0.03149414,  0.04931641,  0.02380371,\n",
       "         0.078125  ,  0.01239014, -0.03222656,  0.06542969,  0.05834961,\n",
       "         0.13769531, -0.03198242, -0.05639648, -0.07177734,  0.08544922,\n",
       "         0.02819824,  0.00201416, -0.07080078,  0.03466797, -0.04003906,\n",
       "        -0.03125   ,  0.08935547, -0.0402832 ,  0.04589844,  0.10986328,\n",
       "         0.08056641, -0.08789062, -0.03320312,  0.04907227,  0.01397705,\n",
       "        -0.02075195,  0.00308228, -0.13867188, -0.02441406, -0.09326172,\n",
       "        -0.04760742, -0.07568359,  0.01080322, -0.01879883, -0.06884766],\n",
       "       dtype=float32),\n",
       " array([ 0.06054688,  0.09326172, -0.07373047,  0.01104736, -0.0111084 ,\n",
       "        -0.12597656, -0.04443359, -0.14257812,  0.05493164,  0.06445312,\n",
       "         0.12158203,  0.04077148,  0.01275635, -0.01928711, -0.03125   ,\n",
       "         0.09326172, -0.06396484,  0.01428223, -0.14257812, -0.02490234,\n",
       "        -0.13769531, -0.07324219,  0.0098877 , -0.078125  , -0.00506592,\n",
       "         0.14941406, -0.1796875 ,  0.12353516,  0.03417969, -0.05053711,\n",
       "        -0.07128906, -0.13183594, -0.01745605,  0.11230469,  0.07177734,\n",
       "        -0.20605469,  0.10595703,  0.09423828,  0.02185059, -0.15722656,\n",
       "        -0.0859375 ,  0.01977539,  0.03125   ,  0.265625  ,  0.12011719,\n",
       "         0.0013504 ,  0.00982666, -0.0071106 ,  0.18847656, -0.01556396,\n",
       "        -0.16113281,  0.02770996, -0.05859375, -0.03588867,  0.09716797,\n",
       "         0.08447266, -0.08984375, -0.06445312, -0.01123047,  0.00848389,\n",
       "         0.00109863,  0.01855469, -0.06005859, -0.02514648,  0.06689453,\n",
       "        -0.07714844,  0.05175781, -0.13085938,  0.03808594,  0.17089844,\n",
       "         0.04467773, -0.12695312, -0.05883789, -0.00312805, -0.11474609,\n",
       "        -0.01818848,  0.03857422, -0.07421875, -0.03637695, -0.01043701,\n",
       "         0.04467773,  0.05688477, -0.08984375, -0.04785156,  0.09033203,\n",
       "        -0.0703125 , -0.04296875,  0.1328125 ,  0.00506592,  0.05297852,\n",
       "        -0.07763672, -0.15039062, -0.05200195, -0.07714844, -0.0480957 ,\n",
       "         0.04248047,  0.02380371,  0.109375  , -0.03393555, -0.01696777,\n",
       "         0.02709961, -0.1796875 ,  0.0189209 , -0.00479126,  0.1875    ,\n",
       "        -0.03344727,  0.02905273,  0.04541016,  0.00497437,  0.10498047,\n",
       "        -0.00753784, -0.01177979,  0.0189209 , -0.04077148,  0.12060547,\n",
       "         0.05761719, -0.20507812, -0.07617188,  0.07666016, -0.0072937 ,\n",
       "         0.01916504,  0.03808594, -0.06738281,  0.07177734,  0.10986328,\n",
       "        -0.08349609, -0.11865234,  0.12207031,  0.0168457 ,  0.1484375 ,\n",
       "        -0.09472656,  0.07275391, -0.09912109,  0.04443359,  0.10107422,\n",
       "        -0.09179688, -0.0390625 , -0.13769531,  0.08789062,  0.08154297,\n",
       "         0.08203125,  0.04638672, -0.07421875,  0.00228882,  0.04174805,\n",
       "         0.07470703,  0.05957031, -0.00191498, -0.01696777, -0.09912109,\n",
       "        -0.01116943, -0.00491333,  0.0168457 ,  0.04541016, -0.12255859,\n",
       "        -0.01342773, -0.02783203, -0.02563477, -0.09033203, -0.10351562,\n",
       "         0.10693359,  0.05419922, -0.01428223,  0.078125  ,  0.03833008,\n",
       "        -0.00976562, -0.02954102,  0.04760742,  0.06225586,  0.0090332 ,\n",
       "         0.10693359, -0.00805664, -0.06298828, -0.21582031,  0.01647949,\n",
       "         0.13476562,  0.03442383, -0.109375  , -0.08251953, -0.0213623 ,\n",
       "        -0.03857422, -0.06103516,  0.02368164, -0.00222778, -0.06982422,\n",
       "         0.01794434,  0.31835938,  0.08935547, -0.03222656, -0.05029297,\n",
       "        -0.04785156,  0.10400391,  0.03979492,  0.07861328, -0.05541992,\n",
       "         0.08154297,  0.07177734, -0.02807617,  0.01385498, -0.10253906,\n",
       "         0.04174805,  0.0189209 , -0.16308594,  0.14160156,  0.09277344,\n",
       "        -0.02746582, -0.04589844, -0.0324707 , -0.17871094, -0.05664062,\n",
       "         0.06445312,  0.11083984,  0.02807617, -0.02770996, -0.04321289,\n",
       "         0.09472656,  0.17578125,  0.02416992, -0.09277344, -0.09765625,\n",
       "        -0.11328125,  0.06445312, -0.01916504, -0.04125977,  0.05175781,\n",
       "        -0.01348877, -0.14941406, -0.02233887, -0.03662109, -0.20410156,\n",
       "        -0.07080078,  0.00518799, -0.04492188, -0.03808594, -0.05444336,\n",
       "         0.06396484, -0.02355957, -0.03759766, -0.05908203,  0.07763672,\n",
       "         0.04199219, -0.11083984,  0.0534668 , -0.12011719, -0.02978516,\n",
       "         0.03979492, -0.13183594,  0.02661133,  0.03491211, -0.06494141,\n",
       "        -0.0390625 ,  0.03417969, -0.06884766,  0.05834961,  0.07958984,\n",
       "         0.05615234,  0.05541992,  0.09765625, -0.14160156, -0.12402344,\n",
       "         0.03088379,  0.06982422,  0.0456543 ,  0.0201416 ,  0.10693359,\n",
       "         0.00805664, -0.11523438, -0.09619141,  0.06542969,  0.05932617,\n",
       "        -0.01928711, -0.13671875, -0.10009766,  0.11376953,  0.12988281,\n",
       "         0.08056641, -0.03173828, -0.02758789, -0.05200195,  0.07568359,\n",
       "        -0.04711914,  0.1328125 ,  0.05566406,  0.00994873, -0.0050354 ,\n",
       "         0.06787109, -0.03540039, -0.15039062,  0.00149536, -0.15234375,\n",
       "        -0.02441406,  0.04052734,  0.00161743,  0.08789062,  0.05737305,\n",
       "        -0.15234375, -0.06054688, -0.07177734, -0.02893066, -0.02185059],\n",
       "       dtype=float32)]"
      ]
     },
     "execution_count": 81,
     "metadata": {},
     "output_type": "execute_result"
    }
   ],
   "source": [
    "vectors = [w2v_google_model[x] for x in \"This is some text I am processing with Spacy\".split(' ')]\n",
    "vectors"
   ]
  },
  {
   "cell_type": "markdown",
   "metadata": {},
   "source": [
    "    Now, we can use these \"words\" to represent sentence data and train our model!"
   ]
  },
  {
   "cell_type": "code",
   "execution_count": 82,
   "metadata": {},
   "outputs": [],
   "source": [
    "import re\n",
    "import numpy\n",
    "from nltk.corpus import stopwords\n",
    "EngStopWords = set(stopwords.words('english'))\n",
    "from tensorflow.keras.preprocessing.text import Tokenizer"
   ]
  },
  {
   "cell_type": "markdown",
   "metadata": {},
   "source": [
    "    First, preprocessing :)"
   ]
  },
  {
   "cell_type": "code",
   "execution_count": 83,
   "metadata": {},
   "outputs": [],
   "source": [
    "def preprocess(text): \n",
    "    text = re.sub(r'[^\\w\\s]',' ',text)\n",
    "    \n",
    "    tokens = []\n",
    "    for word in text.split():\n",
    "        if word in EngStopWords:\n",
    "            pass #如果詞彙是個英文的停用詞的話，就略過不處理。\n",
    "        else:\n",
    "            tokens.append(word)\n",
    "    return tokens"
   ]
  },
  {
   "cell_type": "code",
   "execution_count": 84,
   "metadata": {},
   "outputs": [
    {
     "name": "stdout",
     "output_type": "stream",
     "text": [
      "[[   0    0    0    0    0    0    0    0    0    0    0    0    0    0\n",
      "     0    0    0    0  705  155  270 1318 4939 4940 1697]\n",
      " [   0    0    0    0    0    0    0    0    0 4941  706 4942 4943 1698\n",
      "  1699 1698 2402 1698  136 4944 4945 4946 1700 4947 4948]\n",
      " [   0    0    0    0    0    0    0    0    0    0    0    0    0  117\n",
      "   128 4949   94  923 4950   94 1099 4951 2403 4952 4953]\n",
      " [   0    0    0    0    0    0    0    0    0    0    0    0    0    0\n",
      "     0    0    0    0 4954  180 2404 4955   80   42  129]\n",
      " [   0    0    0    0    0    0    0    0    0    0    0    0    0    0\n",
      "     0    0    0    0    0    0 4956  141 2405 4957  195]]\n"
     ]
    }
   ],
   "source": [
    "# make every \"text\" to \"tokens\"\n",
    "sent_tokens = [preprocess(sent) for sent in train_df['text']]\n",
    "\n",
    "# number tokens!\n",
    "tok = Tokenizer(lower=False)\n",
    "tok.fit_on_texts(sent_tokens)\n",
    "data_encoded_phrase = tok.texts_to_sequences(sent_tokens)\n",
    "\n",
    "# padding\n",
    "from tensorflow.keras.preprocessing.sequence import pad_sequences\n",
    "max_ngram = 25\n",
    "data = pad_sequences(data_encoded_phrase, maxlen=max_ngram, padding='pre')\n",
    "print(data[:5])"
   ]
  },
  {
   "cell_type": "code",
   "execution_count": 85,
   "metadata": {
    "collapsed": true
   },
   "outputs": [
    {
     "name": "stdout",
     "output_type": "stream",
     "text": [
      "11157\n"
     ]
    },
    {
     "data": {
      "text/plain": [
       "array([[ 0.        ,  0.        ,  0.        , ...,  0.        ,\n",
       "         0.        ,  0.        ],\n",
       "       [ 0.07910156, -0.0050354 ,  0.11181641, ..., -0.0067749 ,\n",
       "         0.04272461, -0.10351562],\n",
       "       [-0.01397705, -0.02722168, -0.05493164, ..., -0.03979492,\n",
       "        -0.25195312, -0.01037598],\n",
       "       ...,\n",
       "       [ 0.10498047, -0.08837891,  0.06933594, ...,  0.02368164,\n",
       "        -0.07421875,  0.19921875],\n",
       "       [ 0.35351562,  0.00823975,  0.05224609, ...,  0.06298828,\n",
       "         0.06201172,  0.22265625],\n",
       "       [-0.12988281, -0.3359375 , -0.4609375 , ..., -0.01483154,\n",
       "         0.21777344, -0.01977539]])"
      ]
     },
     "execution_count": 85,
     "metadata": {},
     "output_type": "execute_result"
    }
   ],
   "source": [
    "# embedding\n",
    "embedding_dim = 300\n",
    "size_of_vocabulary=len(tok.word_index) + 1\n",
    "embedding_matrix = numpy.zeros((size_of_vocabulary, embedding_dim))\n",
    "for word, i in tok.word_index.items():\n",
    "    if word in w2v_google_model:\n",
    "        embedding_vector = w2v_google_model[word]\n",
    "        embedding_matrix[i] = embedding_vector\n",
    "\n",
    "print(len(embedding_matrix))\n",
    "embedding_matrix"
   ]
  },
  {
   "cell_type": "code",
   "execution_count": 87,
   "metadata": {},
   "outputs": [
    {
     "name": "stdout",
     "output_type": "stream",
     "text": [
      "11157\n"
     ]
    }
   ],
   "source": [
    "def to_embedding(tokens):\n",
    "    embedding_dim = 300\n",
    "    \n",
    "    size_of_vocabulary=len(tokens) + 1\n",
    "    embedding_matrix = numpy.zeros((size_of_vocabulary, embedding_dim))\n",
    "    \n",
    "    i = 0\n",
    "    for word in tokens:\n",
    "        if word in w2v_google_model:\n",
    "            embedding_matrix[i] = w2v_google_model[word]\n",
    "            i = i+1\n",
    "    embedding_matrix = embedding_matrix[embedding_matrix.sum(axis=1)!=0,:]\n",
    "\n",
    "    return embedding_matrix\n",
    "\n",
    "embeddings = [to_embedding(tokens) for tokens in sent_tokens]\n",
    "print(len(embedding_matrix))"
   ]
  },
  {
   "cell_type": "markdown",
   "metadata": {},
   "source": [
    "    Print out the first sentence for the TA 👍"
   ]
  },
  {
   "cell_type": "code",
   "execution_count": 88,
   "metadata": {
    "scrolled": true
   },
   "outputs": [
    {
     "data": {
      "text/plain": [
       "array([[-0.06640625, -0.02404785,  0.05444336, ..., -0.13964844,\n",
       "         0.06103516, -0.296875  ],\n",
       "       [ 0.12988281,  0.25976562,  0.27148438, ...,  0.03613281,\n",
       "         0.08496094,  0.1171875 ],\n",
       "       [ 0.24316406, -0.07714844, -0.10302734, ..., -0.08300781,\n",
       "         0.06542969, -0.02941895],\n",
       "       ...,\n",
       "       [ 0.02990723, -0.15722656, -0.03637695, ...,  0.1328125 ,\n",
       "         0.1328125 , -0.28125   ],\n",
       "       [ 0.01647949, -0.11816406, -0.02282715, ...,  0.20898438,\n",
       "        -0.16503906, -0.11767578],\n",
       "       [ 0.07763672,  0.28515625,  0.03588867, ..., -0.21191406,\n",
       "         0.24414062,  0.07373047]])"
      ]
     },
     "execution_count": 88,
     "metadata": {},
     "output_type": "execute_result"
    }
   ],
   "source": [
    "embeddings[0]"
   ]
  },
  {
   "cell_type": "markdown",
   "metadata": {},
   "source": [
    "---\n",
    "### ** >>> Exercise 8 (Take home): **  \n",
    "\n",
    "Generate a t-SNE visualization to show the 15 words most related to the words \"angry\", \"happy\", \"sad\", \"fear\" (60 words total)."
   ]
  },
  {
   "cell_type": "markdown",
   "metadata": {},
   "source": [
    "    Use \"w2v_google_model \""
   ]
  },
  {
   "cell_type": "code",
   "execution_count": 97,
   "metadata": {},
   "outputs": [
    {
     "name": "stdout",
     "output_type": "stream",
     "text": [
      "angry_words:  ['happy', 'birthday', 'thank', 'welcome', 'love', 'miss', 'hello', 'thanks', 'merry', 'bless', 'wish', 'day', 'dear', 'morning', 'good', 'dream']\n",
      "happy_words:  ['angry', 'stupid', 'hate', 'annoying', 'weird', 'like', 'confused', 'fucking', 'people', 'dislike', 'awkward', 'reason', 'because', 'scary', 'seriously', 'retarded']\n",
      "sad_words:  ['sad', 'swear', 'feel', 'same', 'wrong', 'meant', 'true', 'reason', 'remember', 'i', 'know', 'bad', 'thought', 'think', 'but', 'shame']\n",
      "fear_words:  ['fear', 'anger', 'enemy', 'afraid', 'destroy', 'fears', 'lies', 'faith', 'hatred', 'overcome', 'truth', 'promises', 'enemies', 'minds', 'suffer', 'thoughts']\n",
      "\n",
      "target words: \n",
      "['happy', 'birthday', 'thank', 'welcome', 'love', 'miss', 'hello', 'thanks', 'merry', 'bless', 'wish', 'day', 'dear', 'morning', 'good', 'dream', 'angry', 'stupid', 'hate', 'annoying', 'weird', 'like', 'confused', 'fucking', 'people', 'dislike', 'awkward', 'reason', 'because', 'scary', 'seriously', 'retarded', 'sad', 'swear', 'feel', 'same', 'wrong', 'meant', 'true', 'reason', 'remember', 'i', 'know', 'bad', 'thought', 'think', 'but', 'shame', 'fear', 'anger', 'enemy', 'afraid', 'destroy', 'fears', 'lies', 'faith', 'hatred', 'overcome', 'truth', 'promises', 'enemies', 'minds', 'suffer', 'thoughts']\n",
      "\n",
      "color list:\n",
      "['r', 'r', 'r', 'r', 'r', 'r', 'r', 'r', 'r', 'r', 'r', 'r', 'r', 'r', 'r', 'r', 'g', 'g', 'g', 'g', 'g', 'g', 'g', 'g', 'g', 'g', 'g', 'g', 'g', 'g', 'g', 'g', 'b', 'b', 'b', 'b', 'b', 'b', 'b', 'b', 'b', 'b', 'b', 'b', 'b', 'b', 'b', 'b', 'y', 'y', 'y', 'y', 'y', 'y', 'y', 'y', 'y', 'y', 'y', 'y', 'y', 'y', 'y', 'y']\n"
     ]
    }
   ],
   "source": [
    "word_list = ['angry', 'happy', 'sad', 'fear']\n",
    "\n",
    "#印出前五個和這四個相關ㄉ字詞(用w2v)\n",
    "topn = 15\n",
    "happy_words = ['angry'] + [word_ for word_, sim_ in glove_twitter_25_model.most_similar('angry', topn=topn)]\n",
    "angry_words = ['happy'] + [word_ for word_, sim_ in glove_twitter_25_model.most_similar('happy', topn=topn)]        \n",
    "sad_words = ['sad'] + [word_ for word_, sim_ in glove_twitter_25_model.most_similar('sad', topn=topn)]        \n",
    "fear_words = ['fear'] + [word_ for word_, sim_ in glove_twitter_25_model.most_similar('fear', topn=topn)]        \n",
    "print('angry_words: ', angry_words)\n",
    "print('happy_words: ', happy_words)\n",
    "print('sad_words: ', sad_words)\n",
    "print('fear_words: ', fear_words)\n",
    "\n",
    "target_words = angry_words + happy_words + sad_words + fear_words\n",
    "print('\\ntarget words: ')\n",
    "print(target_words)\n",
    "\n",
    "print('\\ncolor list:')\n",
    "cn = topn + 1\n",
    "color = ['r'] * cn + ['g'] * cn + ['b'] * cn + ['y'] * cn \n",
    "print(color)"
   ]
  },
  {
   "cell_type": "code",
   "execution_count": 98,
   "metadata": {},
   "outputs": [
    {
     "data": {
      "image/png": "[encoded data removed]",
      "text/plain": [
       "<Figure size 862.5x862.5 with 1 Axes>"
      ]
     },
     "metadata": {
      "needs_background": "light"
     },
     "output_type": "display_data"
    }
   ],
   "source": [
    "%matplotlib inline\n",
    "import matplotlib.pyplot as plt\n",
    "from sklearn.manifold import TSNE\n",
    "\n",
    "## w2v model\n",
    "model = w2v_google_model\n",
    "\n",
    "## prepare training word vectors\n",
    "size = 80\n",
    "target_size = len(target_words)\n",
    "all_word = list(model.index_to_key)\n",
    "word_train = target_words + all_word[:size]\n",
    "X_train = model[word_train]\n",
    "\n",
    "## t-SNE model\n",
    "tsne = TSNE(n_components=2, metric='cosine', random_state=28)\n",
    "\n",
    "## training\n",
    "X_tsne = tsne.fit_transform(X_train)\n",
    "\n",
    "## plot the result\n",
    "plt.figure(figsize=(7.5, 7.5), dpi=115)\n",
    "plt.scatter(X_tsne[:target_size, 0], X_tsne[:target_size, 1], c=color)\n",
    "for label, x, y in zip(target_words, X_tsne[:target_size, 0], X_tsne[:target_size, 1]):\n",
    "    plt.annotate(label, xy=(x,y), xytext=(0,0),  textcoords='offset points')\n",
    "\n",
    "plt.show()"
   ]
  },
  {
   "cell_type": "markdown",
   "metadata": {},
   "source": [
    "    【Legend】\n",
    "    red: mad\n",
    "    fear: yello\n",
    "    blue: sad\n",
    "    green: heppy"
   ]
  },
  {
   "cell_type": "markdown",
   "metadata": {},
   "source": [
    "    Use \"glove\""
   ]
  },
  {
   "cell_type": "code",
   "execution_count": 95,
   "metadata": {},
   "outputs": [
    {
     "name": "stdout",
     "output_type": "stream",
     "text": [
      "angry_words:  ['happy', 'birthday', 'thank', 'welcome', 'love', 'miss', 'hello', 'thanks', 'merry', 'bless', 'wish', 'day', 'dear', 'morning', 'good', 'dream']\n",
      "happy_words:  ['angry', 'stupid', 'hate', 'annoying', 'weird', 'like', 'confused', 'fucking', 'people', 'dislike', 'awkward', 'reason', 'because', 'scary', 'seriously', 'retarded']\n",
      "sad_words:  ['sad', 'swear', 'feel', 'same', 'wrong', 'meant', 'true', 'reason', 'remember', 'i', 'know', 'bad', 'thought', 'think', 'but', 'shame']\n",
      "fear_words:  ['fear', 'anger', 'enemy', 'afraid', 'destroy', 'fears', 'lies', 'faith', 'hatred', 'overcome', 'truth', 'promises', 'enemies', 'minds', 'suffer', 'thoughts']\n",
      "\n",
      "target words: \n",
      "['happy', 'birthday', 'thank', 'welcome', 'love', 'miss', 'hello', 'thanks', 'merry', 'bless', 'wish', 'day', 'dear', 'morning', 'good', 'dream', 'angry', 'stupid', 'hate', 'annoying', 'weird', 'like', 'confused', 'fucking', 'people', 'dislike', 'awkward', 'reason', 'because', 'scary', 'seriously', 'retarded', 'sad', 'swear', 'feel', 'same', 'wrong', 'meant', 'true', 'reason', 'remember', 'i', 'know', 'bad', 'thought', 'think', 'but', 'shame', 'fear', 'anger', 'enemy', 'afraid', 'destroy', 'fears', 'lies', 'faith', 'hatred', 'overcome', 'truth', 'promises', 'enemies', 'minds', 'suffer', 'thoughts']\n",
      "\n",
      "color list:\n",
      "['r', 'r', 'r', 'r', 'r', 'r', 'r', 'r', 'r', 'r', 'r', 'r', 'r', 'r', 'r', 'r', 'g', 'g', 'g', 'g', 'g', 'g', 'g', 'g', 'g', 'g', 'g', 'g', 'g', 'g', 'g', 'g', 'b', 'b', 'b', 'b', 'b', 'b', 'b', 'b', 'b', 'b', 'b', 'b', 'b', 'b', 'b', 'b', 'y', 'y', 'y', 'y', 'y', 'y', 'y', 'y', 'y', 'y', 'y', 'y', 'y', 'y', 'y', 'y']\n"
     ]
    }
   ],
   "source": [
    "word_list = ['angry', 'happy', 'sad', 'fear']\n",
    "\n",
    "#印出前五個和這四個相關ㄉ字詞(用w2v)\n",
    "topn = 15\n",
    "happy_words = ['angry'] + [word_ for word_, sim_ in glove_twitter_25_model.most_similar('angry', topn=topn)]\n",
    "angry_words = ['happy'] + [word_ for word_, sim_ in glove_twitter_25_model.most_similar('happy', topn=topn)]        \n",
    "sad_words = ['sad'] + [word_ for word_, sim_ in glove_twitter_25_model.most_similar('sad', topn=topn)]        \n",
    "fear_words = ['fear'] + [word_ for word_, sim_ in glove_twitter_25_model.most_similar('fear', topn=topn)]        \n",
    "print('angry_words: ', angry_words)\n",
    "print('happy_words: ', happy_words)\n",
    "print('sad_words: ', sad_words)\n",
    "print('fear_words: ', fear_words)\n",
    "\n",
    "target_words = angry_words + happy_words + sad_words + fear_words\n",
    "print('\\ntarget words: ')\n",
    "print(target_words)\n",
    "\n",
    "print('\\ncolor list:')\n",
    "cn = topn + 1\n",
    "color = ['r'] * cn + ['g'] * cn + ['b'] * cn + ['y'] * cn \n",
    "print(color)"
   ]
  },
  {
   "cell_type": "code",
   "execution_count": 96,
   "metadata": {},
   "outputs": [
    {
     "data": {
      "image/png": "[encoded data removed]",
      "text/plain": [
       "<Figure size 862.5x862.5 with 1 Axes>"
      ]
     },
     "metadata": {
      "needs_background": "light"
     },
     "output_type": "display_data"
    }
   ],
   "source": [
    "%matplotlib inline\n",
    "import matplotlib.pyplot as plt\n",
    "from sklearn.manifold import TSNE\n",
    "\n",
    "## w2v model\n",
    "model = w2v_google_model\n",
    "\n",
    "## prepare training word vectors\n",
    "size = 80\n",
    "target_size = len(target_words)\n",
    "all_word = list(model.index_to_key)\n",
    "word_train = target_words + all_word[:size]\n",
    "X_train = model[word_train]\n",
    "\n",
    "## t-SNE model\n",
    "tsne = TSNE(n_components=2, metric='cosine', random_state=28)\n",
    "\n",
    "## training\n",
    "X_tsne = tsne.fit_transform(X_train)\n",
    "\n",
    "## plot the result\n",
    "plt.figure(figsize=(7.5, 7.5), dpi=115)\n",
    "plt.scatter(X_tsne[:target_size, 0], X_tsne[:target_size, 1], c=color)\n",
    "for label, x, y in zip(target_words, X_tsne[:target_size, 0], X_tsne[:target_size, 1]):\n",
    "    plt.annotate(label, xy=(x,y), xytext=(0,0),  textcoords='offset points')\n",
    "\n",
    "plt.show()"
   ]
  },
  {
   "cell_type": "markdown",
   "metadata": {},
   "source": [
    "    【Legend】\n",
    "    red: mad\n",
    "    fear: yello\n",
    "    blue: sad\n",
    "    green: heppy"
   ]
  },
  {
   "cell_type": "markdown",
   "metadata": {},
   "source": [
    "# Second\n",
    "This part is worth 30% of your grade. Participate in the in-class Kaggle Competition regarding Emotion Recognition on Twitter. The scoring will be given according to your place in the Private Leaderboard ranking."
   ]
  },
  {
   "cell_type": "markdown",
   "metadata": {},
   "source": [
    "    see photo above."
   ]
  },
  {
   "cell_type": "markdown",
   "metadata": {},
   "source": [
    "# Third\n",
    "This part is worth 30% of your grade. A report of your work developping the model for the competition (You can use code and comment it). This report should include what your preprocessing steps, the feature engineering steps and an explanation of your model. You can also mention different things you tried and insights you gained."
   ]
  },
  {
   "cell_type": "markdown",
   "metadata": {},
   "source": [
    "    see \"kaggle_competition.ipynb\"\n",
    "    see \"kaggle_RoBERTa.ipynb\""
   ]
  },
  {
   "cell_type": "markdown",
   "metadata": {},
   "source": [
    "# Fourth \n",
    "This part is worth 10% of your grade. It's hard for us to follow if your code is messy :'(, so please tidy up your notebook and add minimal comments where needed."
   ]
  },
  {
   "cell_type": "markdown",
   "metadata": {},
   "source": [
    "    Hard work at the end of thie class.\n",
    "    Thank TAs all this semester!! 🥰"
   ]
  }
 ],
 "metadata": {
  "kernelspec": {
   "display_name": "Python 3 (ipykernel)",
   "language": "python",
   "name": "python3"
  },
  "language_info": {
   "codemirror_mode": {
    "name": "ipython",
    "version": 3
   },
   "file_extension": ".py",
   "mimetype": "text/x-python",
   "name": "python",
   "nbconvert_exporter": "python",
   "pygments_lexer": "ipython3",
   "version": "3.8.3"
  },
  "varInspector": {
   "cols": {
    "lenName": 16,
    "lenType": 16,
    "lenVar": 40
   },
   "kernels_config": {
    "python": {
     "delete_cmd_postfix": "",
     "delete_cmd_prefix": "del ",
     "library": "var_list.py",
     "varRefreshCmd": "print(var_dic_list())"
    },
    "r": {
     "delete_cmd_postfix": ") ",
     "delete_cmd_prefix": "rm(",
     "library": "var_list.r",
     "varRefreshCmd": "cat(var_dic_list()) "
    }
   },
   "types_to_exclude": [
    "module",
    "function",
    "builtin_function_or_method",
    "instance",
    "_Feature"
   ],
   "window_display": false
  }
 },
 "nbformat": 4,
 "nbformat_minor": 2
}
